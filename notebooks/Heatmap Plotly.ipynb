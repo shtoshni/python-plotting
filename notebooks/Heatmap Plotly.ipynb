{
 "cells": [
  {
   "cell_type": "markdown",
   "metadata": {},
   "source": [
    "## Heatmap using Plotly\n",
    "\n",
    "Here I will be illustrating making heatmaps using Plotly. <br/> \n",
    "Plotly is available for both python and javascript. <br/>\n",
    "I used this library extensively for my paper \"PeTra: A Sparsely Supervised Memory Model for People Tracking\" - https://www.aclweb.org/anthology/2020.acl-main.481.pdf "
   ]
  },
  {
   "cell_type": "code",
   "execution_count": 23,
   "metadata": {},
   "outputs": [],
   "source": [
    "import os\n",
    "from os import path\n",
    "import json\n",
    "import numpy as np\n",
    "import plotly\n",
    "import plotly.graph_objects as go\n",
    "from plotly.subplots import make_subplots"
   ]
  },
  {
   "cell_type": "markdown",
   "metadata": {},
   "source": [
    "### Load data \n",
    "\n",
    "In this figure we will be visualizing the run of a memory model which performs \"OVERWRITE (OW)\" & \"COREF (CR)\" operations (performed softly) upon seeing each token in the text. In this particular example the model has 4 memory cells. We will visualize the two operations for each cell separately with the cells stacked on top of each other. <br/>"
   ]
  },
  {
   "cell_type": "code",
   "execution_count": 24,
   "metadata": {},
   "outputs": [
    {
     "name": "stdout",
     "output_type": "stream",
     "text": [
      "(4, 80) (4, 80)\n"
     ]
    }
   ],
   "source": [
    "data_file = \"../data/heatmap_plotly.json\"\n",
    "data = json.loads(open(data_file).read())\n",
    "\n",
    "text = data[\"text\"]\n",
    "overwrite = np.array(data[\"overwrite\"]).T  # 4 x L\n",
    "coref = np.array(data[\"coref\"]).T  # 4 x L\n",
    "\n",
    "num_cells = overwrite.shape[0]\n",
    "print (overwrite.shape, coref.shape)  # (4, 80) for both - # of cells is 4 and text length is 80 "
   ]
  },
  {
   "cell_type": "markdown",
   "metadata": {},
   "source": [
    "### Heatmaps with Subplots sharing X-axis"
   ]
  },
  {
   "cell_type": "code",
   "execution_count": 33,
   "metadata": {},
   "outputs": [],
   "source": [
    "def make_plot(num_cells, text, coref, overwrite):\n",
    "    # Make subplots for 4 cells\n",
    "    fig = make_subplots(rows=num_cells, cols=1, # Grid config\n",
    "                        shared_xaxes=True,  # Shared X-axis\n",
    "                        vertical_spacing=0.02, y_title=r'Memory Cells',)\n",
    "\n",
    "    # Find the global max and global min so that the heatmaps use the same boundaries\n",
    "    zmin = min(np.min(overwrite), np.min(coref))\n",
    "    zmax = max(np.max(overwrite), np.max(coref))\n",
    "\n",
    "    for i in range(num_cells):\n",
    "        # Add the heatmap\n",
    "        fig.append_trace(\n",
    "            go.Heatmap(\n",
    "                z=np.stack([coref[i, :], overwrite[i, :]]),\n",
    "                zmin=zmin - 0.3, # Offsetting the zmin because otherwise the lowest values become white\n",
    "                zmax=zmax, showscale=False,  \n",
    "                colorscale='Blues'\n",
    "            ),\n",
    "            row=i+1, col=1,  # Plot identification\n",
    "        )\n",
    "        # Set Y-axis ticks\n",
    "        fig.update_yaxes(row=i+1, ticktext=[r'CR', r'OW'], showticklabels=True, \n",
    "                         tickcolor='#000000', tickvals=[0, 1], ticks='outside')\n",
    "\n",
    "    # Set X-axis ticks shared by all the subplots\n",
    "    fig.update_xaxes(row=num_cells, col=1, ticktext=text, showticklabels=True, tickvals=list(range(len(text))), \n",
    "                     tickangle=300, tickfont={'family':'Open Sans', 'size': 12}, tickcolor='#000000')\n",
    "\n",
    "    # Update the layout and save the figure\n",
    "    fig.update_layout(height=250, width=1000, margin={'l': 60, 'r': 5, 't':5, 'b': 5})\n",
    "    fig.show()\n",
    "    fig.write_image(\"../plots/heatmap_plotly.jpg\")\n"
   ]
  },
  {
   "cell_type": "code",
   "execution_count": 34,
   "metadata": {},
   "outputs": [
    {
     "data": {
      "application/vnd.plotly.v1+json": {
       "config": {
        "plotlyServerURL": "https://plot.ly"
       },
       "data": [
        {
         "colorscale": [
          [
           0,
           "rgb(247,251,255)"
          ],
          [
           0.125,
           "rgb(222,235,247)"
          ],
          [
           0.25,
           "rgb(198,219,239)"
          ],
          [
           0.375,
           "rgb(158,202,225)"
          ],
          [
           0.5,
           "rgb(107,174,214)"
          ],
          [
           0.625,
           "rgb(66,146,198)"
          ],
          [
           0.75,
           "rgb(33,113,181)"
          ],
          [
           0.875,
           "rgb(8,81,156)"
          ],
          [
           1,
           "rgb(8,48,107)"
          ]
         ],
         "showscale": false,
         "type": "heatmap",
         "xaxis": "x",
         "yaxis": "y",
         "z": [
          [
           9.99999993922529e-09,
           9.99999993922529e-09,
           9.99999993922529e-09,
           9.99999993922529e-09,
           3.742422549635194e-08,
           3.6016633657709463e-06,
           1.1502574125188403e-05,
           1.850267653935589e-05,
           1.8606619960337412e-06,
           7.015672167653975e-07,
           4.073714808328077e-05,
           0.0005298995529301465,
           0.0008356212638318539,
           0.0012294206535443664,
           0.0010705784661695361,
           0.45676904916763306,
           0.35870829224586487,
           0.25503280758857727,
           0.29328805208206177,
           0.006311540026217699,
           0.036671414971351624,
           0.0001466119720134884,
           9.27195287658833e-05,
           0.000668597873300314,
           0.0005504809669218957,
           0.00035573530476540327,
           0.0007970888400450349,
           1.1392730314696564e-08,
           1.0000717587388408e-08,
           0.0008311892743222415,
           0.0001213732102769427,
           0.0016736850375309587,
           0.00507965125143528,
           0.005219821818172932,
           0.0016227063024416566,
           0.0009187433170154691,
           0.0005255133146420121,
           0.0031296717934310436,
           0.0006658879574388266,
           2.3195180887114475e-08,
           0.0008038435480557382,
           4.2669260437833145e-05,
           1.3792315257887822e-05,
           1.155929385276977e-05,
           3.0521750886691734e-05,
           9.99999993922529e-09
          ],
          [
           9.99999993922529e-09,
           9.99999993922529e-09,
           9.99999993922529e-09,
           1.0034813868742276e-08,
           9.99999993922529e-09,
           9.99999993922529e-09,
           9.99999993922529e-09,
           3.01743625641393e-07,
           9.99999993922529e-09,
           9.99999993922529e-09,
           7.161343091866001e-05,
           9.99999993922529e-09,
           9.99999993922529e-09,
           9.99999993922529e-09,
           0.49056899547576904,
           9.99999993922529e-09,
           9.99999993922529e-09,
           9.99999993922529e-09,
           9.99999993922529e-09,
           9.99999993922529e-09,
           9.99999993922529e-09,
           9.99999993922529e-09,
           9.99999993922529e-09,
           9.99999993922529e-09,
           9.99999993922529e-09,
           9.99999993922529e-09,
           9.99999993922529e-09,
           9.99999993922529e-09,
           9.99999993922529e-09,
           9.99999993922529e-09,
           9.99999993922529e-09,
           9.99999993922529e-09,
           9.99999993922529e-09,
           9.99999993922529e-09,
           9.99999993922529e-09,
           9.99999993922529e-09,
           9.99999993922529e-09,
           9.99999993922529e-09,
           9.99999993922529e-09,
           9.99999993922529e-09,
           9.99999993922529e-09,
           9.99999993922529e-09,
           9.99999993922529e-09,
           9.99999993922529e-09,
           9.99999993922529e-09,
           9.99999993922529e-09
          ]
         ],
         "zmax": 0.9990757703781128,
         "zmin": -0.29999999000000005
        },
        {
         "colorscale": [
          [
           0,
           "rgb(247,251,255)"
          ],
          [
           0.125,
           "rgb(222,235,247)"
          ],
          [
           0.25,
           "rgb(198,219,239)"
          ],
          [
           0.375,
           "rgb(158,202,225)"
          ],
          [
           0.5,
           "rgb(107,174,214)"
          ],
          [
           0.625,
           "rgb(66,146,198)"
          ],
          [
           0.75,
           "rgb(33,113,181)"
          ],
          [
           0.875,
           "rgb(8,81,156)"
          ],
          [
           1,
           "rgb(8,48,107)"
          ]
         ],
         "showscale": false,
         "type": "heatmap",
         "xaxis": "x2",
         "yaxis": "y2",
         "z": [
          [
           9.99999993922529e-09,
           9.99999993922529e-09,
           9.99999993922529e-09,
           9.99999993922529e-09,
           9.99999993922529e-09,
           3.6016633657709463e-06,
           1.1502574125188403e-05,
           1.850267653935589e-05,
           1.860647785179026e-06,
           7.015672167653975e-07,
           4.073838863405399e-05,
           0.000529543380253017,
           0.0008702923078089952,
           0.0013339348370209336,
           0.0011556192766875029,
           2.5094607281062054e-07,
           8.833455353851605e-07,
           1.0351399168939679e-06,
           3.29172435158398e-05,
           5.406405034591444e-05,
           0.0033932102378457785,
           0.0010396981379017234,
           7.975652260938659e-05,
           0.00020198200945742428,
           1.2724874977720901e-05,
           3.101847323705442e-05,
           9.166720701614395e-06,
           1.1952898226752495e-08,
           2.632143392133912e-08,
           0.0010450875852257013,
           0.0003468893119134009,
           0.0008591439691372216,
           0.0024062269367277622,
           0.0007455944432877004,
           0.0002743164368439466,
           0.00014462947729043663,
           0.0002753227890934795,
           0.0010919837513938546,
           0.008447851985692978,
           2.0476279587455792e-06,
           0.0042157964780926704,
           0.00011394330067560077,
           3.2871768780751154e-05,
           1.185603832709603e-05,
           8.39376025396632e-06,
           9.99999993922529e-09
          ],
          [
           9.99999993922529e-09,
           9.99999993922529e-09,
           9.99999993922529e-09,
           9.99999993922529e-09,
           2.8751525604775452e-08,
           1.38654545622785e-08,
           9.99999993922529e-09,
           9.99999993922529e-09,
           2.319268617156922e-07,
           2.225100843133987e-06,
           9.99999993922529e-09,
           9.99999993922529e-09,
           9.99999993922529e-09,
           9.99999993922529e-09,
           9.99999993922529e-09,
           9.99999993922529e-09,
           9.99999993922529e-09,
           9.99999993922529e-09,
           9.99999993922529e-09,
           9.99999993922529e-09,
           9.99999993922529e-09,
           9.99999993922529e-09,
           9.99999993922529e-09,
           9.99999993922529e-09,
           9.99999993922529e-09,
           9.99999993922529e-09,
           9.99999993922529e-09,
           9.99999993922529e-09,
           9.99999993922529e-09,
           9.99999993922529e-09,
           0.0005497530219145119,
           0.00221240590326488,
           9.99999993922529e-09,
           2.598266291897744e-05,
           8.443403203273192e-06,
           5.683955350832548e-07,
           5.8672409068094566e-05,
           0.11035466939210892,
           9.99999993922529e-09,
           2.5703712935865042e-08,
           7.563956023659557e-05,
           1.874927647804725e-06,
           7.993615014356692e-08,
           1.5389355567663188e-08,
           8.63781042426126e-06,
           9.99999993922529e-09
          ]
         ],
         "zmax": 0.9990757703781128,
         "zmin": -0.29999999000000005
        },
        {
         "colorscale": [
          [
           0,
           "rgb(247,251,255)"
          ],
          [
           0.125,
           "rgb(222,235,247)"
          ],
          [
           0.25,
           "rgb(198,219,239)"
          ],
          [
           0.375,
           "rgb(158,202,225)"
          ],
          [
           0.5,
           "rgb(107,174,214)"
          ],
          [
           0.625,
           "rgb(66,146,198)"
          ],
          [
           0.75,
           "rgb(33,113,181)"
          ],
          [
           0.875,
           "rgb(8,81,156)"
          ],
          [
           1,
           "rgb(8,48,107)"
          ]
         ],
         "showscale": false,
         "type": "heatmap",
         "xaxis": "x3",
         "yaxis": "y3",
         "z": [
          [
           9.99999993922529e-09,
           9.99999993922529e-09,
           0.9938104748725891,
           0.33022165298461914,
           0.6490028500556946,
           0.5234131813049316,
           0.07187722623348236,
           0.15305113792419434,
           0.03157157450914383,
           0.019567832350730896,
           0.0005544485175050795,
           0.008051074109971523,
           0.0009340427350252867,
           0.00011431519669713452,
           4.310594158596359e-05,
           1.2866248511045342e-08,
           1.0006581341315268e-08,
           1.0017868312672817e-08,
           1.019041917516006e-08,
           0.0073526715859770775,
           0.002126952400431037,
           0.9975358247756958,
           0.0043738535605371,
           0.000145781843457371,
           1.064945990947308e-06,
           5.896957645745715e-06,
           8.895919449969369e-07,
           0.009510940872132778,
           0.9877669811248779,
           0.007187121547758579,
           0.9985933303833008,
           8.479692769469693e-05,
           6.513275729957968e-05,
           7.981552698765881e-07,
           3.051038675039308e-07,
           5.398631230946194e-08,
           1.2108274631827953e-06,
           7.621101394761354e-05,
           2.036312253039796e-05,
           1.0028005092976855e-08,
           0.0003427795018069446,
           1.2556633954829977e-08,
           1.0855510268470425e-08,
           1.0054278298810004e-08,
           0.0004671167698688805,
           9.99999993922529e-09
          ],
          [
           9.99999993922529e-09,
           0.9990757703781128,
           9.99999993922529e-09,
           9.99999993922529e-09,
           9.99999993922529e-09,
           9.99999993922529e-09,
           9.99999993922529e-09,
           9.99999993922529e-09,
           9.99999993922529e-09,
           9.99999993922529e-09,
           9.99999993922529e-09,
           9.99999993922529e-09,
           9.99999993922529e-09,
           9.99999993922529e-09,
           9.99999993922529e-09,
           9.99999993922529e-09,
           9.99999993922529e-09,
           9.99999993922529e-09,
           9.99999993922529e-09,
           9.99999993922529e-09,
           9.99999993922529e-09,
           9.99999993922529e-09,
           9.99999993922529e-09,
           9.99999993922529e-09,
           9.99999993922529e-09,
           9.99999993922529e-09,
           9.99999993922529e-09,
           9.99999993922529e-09,
           9.99999993922529e-09,
           9.99999993922529e-09,
           9.99999993922529e-09,
           9.99999993922529e-09,
           9.99999993922529e-09,
           9.99999993922529e-09,
           9.99999993922529e-09,
           9.99999993922529e-09,
           9.99999993922529e-09,
           9.99999993922529e-09,
           9.99999993922529e-09,
           9.99999993922529e-09,
           9.99999993922529e-09,
           9.99999993922529e-09,
           9.99999993922529e-09,
           9.99999993922529e-09,
           9.99999993922529e-09,
           9.99999993922529e-09
          ]
         ],
         "zmax": 0.9990757703781128,
         "zmin": -0.29999999000000005
        },
        {
         "colorscale": [
          [
           0,
           "rgb(247,251,255)"
          ],
          [
           0.125,
           "rgb(222,235,247)"
          ],
          [
           0.25,
           "rgb(198,219,239)"
          ],
          [
           0.375,
           "rgb(158,202,225)"
          ],
          [
           0.5,
           "rgb(107,174,214)"
          ],
          [
           0.625,
           "rgb(66,146,198)"
          ],
          [
           0.75,
           "rgb(33,113,181)"
          ],
          [
           0.875,
           "rgb(8,81,156)"
          ],
          [
           1,
           "rgb(8,48,107)"
          ]
         ],
         "showscale": false,
         "type": "heatmap",
         "xaxis": "x4",
         "yaxis": "y4",
         "z": [
          [
           9.99999993922529e-09,
           9.99999993922529e-09,
           9.99999993922529e-09,
           1.4386481339556667e-08,
           3.742422549635194e-08,
           3.6016633657709463e-06,
           1.1502574125188403e-05,
           1.8502925740904175e-05,
           1.860667339315114e-06,
           7.015698884060839e-07,
           4.0737257222644985e-05,
           0.0005295295268297195,
           0.0008385168621316552,
           0.0012231608852744102,
           0.0011135634267702699,
           2.335212485604643e-07,
           7.814593914190482e-07,
           9.948505521606421e-07,
           2.94993951683864e-05,
           5.7684974308358505e-05,
           0.0033614560961723328,
           0.0011827656999230385,
           8.409912697970867e-05,
           0.0001928992714965716,
           1.1390545296308119e-05,
           2.7302065063850023e-05,
           8.142599654092919e-06,
           1.2235782165248565e-08,
           3.128887016146109e-08,
           0.001079964218661189,
           0.00038800432230345905,
           0.0008329058182425797,
           0.0022303860168904066,
           0.0006607442628592253,
           0.0002417428622720763,
           0.00012780730321537703,
           0.00025137438206002116,
           0.0010662070708349347,
           0.0024080805014818907,
           0.5220337510108948,
           0.01848609186708927,
           0.002043738029897213,
           0.0007138436776585877,
           0.0007173925405368209,
           1.2969282579433639e-05,
           9.99999993922529e-09
          ],
          [
           9.99999993922529e-09,
           9.99999993922529e-09,
           1.0002267458730785e-08,
           9.99999993922529e-09,
           9.99999993922529e-09,
           9.99999993922529e-09,
           5.880055482521129e-07,
           9.99999993922529e-09,
           9.99999993922529e-09,
           9.99999993922529e-09,
           9.99999993922529e-09,
           0.002664875704795122,
           0.0012422528816387057,
           0.006375639233738184,
           9.99999993922529e-09,
           7.70493261370575e-06,
           2.1383492310178553e-08,
           1.0390214910671602e-08,
           1.150869799459997e-08,
           1.3544286048272625e-07,
           0.0009280568920075893,
           9.514678095001727e-05,
           4.801615432370454e-05,
           6.537497392855585e-05,
           8.929959562919976e-07,
           4.053892098454526e-06,
           2.5885123022817424e-07,
           3.045691698844166e-08,
           1.0593336874364923e-08,
           0.001294247223995626,
           9.99999993922529e-09,
           9.99999993922529e-09,
           0.0043252259492874146,
           9.99999993922529e-09,
           9.99999993922529e-09,
           9.99999993922529e-09,
           9.99999993922529e-09,
           9.99999993922529e-09,
           0.5072919130325317,
           9.99999993922529e-09,
           9.99999993922529e-09,
           9.99999993922529e-09,
           9.99999993922529e-09,
           9.99999993922529e-09,
           9.99999993922529e-09,
           9.99999993922529e-09
          ]
         ],
         "zmax": 0.9990757703781128,
         "zmin": -0.29999999000000005
        }
       ],
       "layout": {
        "annotations": [
         {
          "font": {
           "size": 16
          },
          "showarrow": false,
          "text": "Memory Cells",
          "textangle": -90,
          "x": 0,
          "xanchor": "right",
          "xref": "paper",
          "xshift": -40,
          "y": 0.5,
          "yanchor": "middle",
          "yref": "paper"
         }
        ],
        "height": 250,
        "margin": {
         "b": 5,
         "l": 60,
         "r": 5,
         "t": 5
        },
        "template": {
         "data": {
          "bar": [
           {
            "error_x": {
             "color": "#2a3f5f"
            },
            "error_y": {
             "color": "#2a3f5f"
            },
            "marker": {
             "line": {
              "color": "#E5ECF6",
              "width": 0.5
             }
            },
            "type": "bar"
           }
          ],
          "barpolar": [
           {
            "marker": {
             "line": {
              "color": "#E5ECF6",
              "width": 0.5
             }
            },
            "type": "barpolar"
           }
          ],
          "carpet": [
           {
            "aaxis": {
             "endlinecolor": "#2a3f5f",
             "gridcolor": "white",
             "linecolor": "white",
             "minorgridcolor": "white",
             "startlinecolor": "#2a3f5f"
            },
            "baxis": {
             "endlinecolor": "#2a3f5f",
             "gridcolor": "white",
             "linecolor": "white",
             "minorgridcolor": "white",
             "startlinecolor": "#2a3f5f"
            },
            "type": "carpet"
           }
          ],
          "choropleth": [
           {
            "colorbar": {
             "outlinewidth": 0,
             "ticks": ""
            },
            "type": "choropleth"
           }
          ],
          "contour": [
           {
            "colorbar": {
             "outlinewidth": 0,
             "ticks": ""
            },
            "colorscale": [
             [
              0,
              "#0d0887"
             ],
             [
              0.1111111111111111,
              "#46039f"
             ],
             [
              0.2222222222222222,
              "#7201a8"
             ],
             [
              0.3333333333333333,
              "#9c179e"
             ],
             [
              0.4444444444444444,
              "#bd3786"
             ],
             [
              0.5555555555555556,
              "#d8576b"
             ],
             [
              0.6666666666666666,
              "#ed7953"
             ],
             [
              0.7777777777777778,
              "#fb9f3a"
             ],
             [
              0.8888888888888888,
              "#fdca26"
             ],
             [
              1,
              "#f0f921"
             ]
            ],
            "type": "contour"
           }
          ],
          "contourcarpet": [
           {
            "colorbar": {
             "outlinewidth": 0,
             "ticks": ""
            },
            "type": "contourcarpet"
           }
          ],
          "heatmap": [
           {
            "colorbar": {
             "outlinewidth": 0,
             "ticks": ""
            },
            "colorscale": [
             [
              0,
              "#0d0887"
             ],
             [
              0.1111111111111111,
              "#46039f"
             ],
             [
              0.2222222222222222,
              "#7201a8"
             ],
             [
              0.3333333333333333,
              "#9c179e"
             ],
             [
              0.4444444444444444,
              "#bd3786"
             ],
             [
              0.5555555555555556,
              "#d8576b"
             ],
             [
              0.6666666666666666,
              "#ed7953"
             ],
             [
              0.7777777777777778,
              "#fb9f3a"
             ],
             [
              0.8888888888888888,
              "#fdca26"
             ],
             [
              1,
              "#f0f921"
             ]
            ],
            "type": "heatmap"
           }
          ],
          "heatmapgl": [
           {
            "colorbar": {
             "outlinewidth": 0,
             "ticks": ""
            },
            "colorscale": [
             [
              0,
              "#0d0887"
             ],
             [
              0.1111111111111111,
              "#46039f"
             ],
             [
              0.2222222222222222,
              "#7201a8"
             ],
             [
              0.3333333333333333,
              "#9c179e"
             ],
             [
              0.4444444444444444,
              "#bd3786"
             ],
             [
              0.5555555555555556,
              "#d8576b"
             ],
             [
              0.6666666666666666,
              "#ed7953"
             ],
             [
              0.7777777777777778,
              "#fb9f3a"
             ],
             [
              0.8888888888888888,
              "#fdca26"
             ],
             [
              1,
              "#f0f921"
             ]
            ],
            "type": "heatmapgl"
           }
          ],
          "histogram": [
           {
            "marker": {
             "colorbar": {
              "outlinewidth": 0,
              "ticks": ""
             }
            },
            "type": "histogram"
           }
          ],
          "histogram2d": [
           {
            "colorbar": {
             "outlinewidth": 0,
             "ticks": ""
            },
            "colorscale": [
             [
              0,
              "#0d0887"
             ],
             [
              0.1111111111111111,
              "#46039f"
             ],
             [
              0.2222222222222222,
              "#7201a8"
             ],
             [
              0.3333333333333333,
              "#9c179e"
             ],
             [
              0.4444444444444444,
              "#bd3786"
             ],
             [
              0.5555555555555556,
              "#d8576b"
             ],
             [
              0.6666666666666666,
              "#ed7953"
             ],
             [
              0.7777777777777778,
              "#fb9f3a"
             ],
             [
              0.8888888888888888,
              "#fdca26"
             ],
             [
              1,
              "#f0f921"
             ]
            ],
            "type": "histogram2d"
           }
          ],
          "histogram2dcontour": [
           {
            "colorbar": {
             "outlinewidth": 0,
             "ticks": ""
            },
            "colorscale": [
             [
              0,
              "#0d0887"
             ],
             [
              0.1111111111111111,
              "#46039f"
             ],
             [
              0.2222222222222222,
              "#7201a8"
             ],
             [
              0.3333333333333333,
              "#9c179e"
             ],
             [
              0.4444444444444444,
              "#bd3786"
             ],
             [
              0.5555555555555556,
              "#d8576b"
             ],
             [
              0.6666666666666666,
              "#ed7953"
             ],
             [
              0.7777777777777778,
              "#fb9f3a"
             ],
             [
              0.8888888888888888,
              "#fdca26"
             ],
             [
              1,
              "#f0f921"
             ]
            ],
            "type": "histogram2dcontour"
           }
          ],
          "mesh3d": [
           {
            "colorbar": {
             "outlinewidth": 0,
             "ticks": ""
            },
            "type": "mesh3d"
           }
          ],
          "parcoords": [
           {
            "line": {
             "colorbar": {
              "outlinewidth": 0,
              "ticks": ""
             }
            },
            "type": "parcoords"
           }
          ],
          "pie": [
           {
            "automargin": true,
            "type": "pie"
           }
          ],
          "scatter": [
           {
            "marker": {
             "colorbar": {
              "outlinewidth": 0,
              "ticks": ""
             }
            },
            "type": "scatter"
           }
          ],
          "scatter3d": [
           {
            "line": {
             "colorbar": {
              "outlinewidth": 0,
              "ticks": ""
             }
            },
            "marker": {
             "colorbar": {
              "outlinewidth": 0,
              "ticks": ""
             }
            },
            "type": "scatter3d"
           }
          ],
          "scattercarpet": [
           {
            "marker": {
             "colorbar": {
              "outlinewidth": 0,
              "ticks": ""
             }
            },
            "type": "scattercarpet"
           }
          ],
          "scattergeo": [
           {
            "marker": {
             "colorbar": {
              "outlinewidth": 0,
              "ticks": ""
             }
            },
            "type": "scattergeo"
           }
          ],
          "scattergl": [
           {
            "marker": {
             "colorbar": {
              "outlinewidth": 0,
              "ticks": ""
             }
            },
            "type": "scattergl"
           }
          ],
          "scattermapbox": [
           {
            "marker": {
             "colorbar": {
              "outlinewidth": 0,
              "ticks": ""
             }
            },
            "type": "scattermapbox"
           }
          ],
          "scatterpolar": [
           {
            "marker": {
             "colorbar": {
              "outlinewidth": 0,
              "ticks": ""
             }
            },
            "type": "scatterpolar"
           }
          ],
          "scatterpolargl": [
           {
            "marker": {
             "colorbar": {
              "outlinewidth": 0,
              "ticks": ""
             }
            },
            "type": "scatterpolargl"
           }
          ],
          "scatterternary": [
           {
            "marker": {
             "colorbar": {
              "outlinewidth": 0,
              "ticks": ""
             }
            },
            "type": "scatterternary"
           }
          ],
          "surface": [
           {
            "colorbar": {
             "outlinewidth": 0,
             "ticks": ""
            },
            "colorscale": [
             [
              0,
              "#0d0887"
             ],
             [
              0.1111111111111111,
              "#46039f"
             ],
             [
              0.2222222222222222,
              "#7201a8"
             ],
             [
              0.3333333333333333,
              "#9c179e"
             ],
             [
              0.4444444444444444,
              "#bd3786"
             ],
             [
              0.5555555555555556,
              "#d8576b"
             ],
             [
              0.6666666666666666,
              "#ed7953"
             ],
             [
              0.7777777777777778,
              "#fb9f3a"
             ],
             [
              0.8888888888888888,
              "#fdca26"
             ],
             [
              1,
              "#f0f921"
             ]
            ],
            "type": "surface"
           }
          ],
          "table": [
           {
            "cells": {
             "fill": {
              "color": "#EBF0F8"
             },
             "line": {
              "color": "white"
             }
            },
            "header": {
             "fill": {
              "color": "#C8D4E3"
             },
             "line": {
              "color": "white"
             }
            },
            "type": "table"
           }
          ]
         },
         "layout": {
          "annotationdefaults": {
           "arrowcolor": "#2a3f5f",
           "arrowhead": 0,
           "arrowwidth": 1
          },
          "coloraxis": {
           "colorbar": {
            "outlinewidth": 0,
            "ticks": ""
           }
          },
          "colorscale": {
           "diverging": [
            [
             0,
             "#8e0152"
            ],
            [
             0.1,
             "#c51b7d"
            ],
            [
             0.2,
             "#de77ae"
            ],
            [
             0.3,
             "#f1b6da"
            ],
            [
             0.4,
             "#fde0ef"
            ],
            [
             0.5,
             "#f7f7f7"
            ],
            [
             0.6,
             "#e6f5d0"
            ],
            [
             0.7,
             "#b8e186"
            ],
            [
             0.8,
             "#7fbc41"
            ],
            [
             0.9,
             "#4d9221"
            ],
            [
             1,
             "#276419"
            ]
           ],
           "sequential": [
            [
             0,
             "#0d0887"
            ],
            [
             0.1111111111111111,
             "#46039f"
            ],
            [
             0.2222222222222222,
             "#7201a8"
            ],
            [
             0.3333333333333333,
             "#9c179e"
            ],
            [
             0.4444444444444444,
             "#bd3786"
            ],
            [
             0.5555555555555556,
             "#d8576b"
            ],
            [
             0.6666666666666666,
             "#ed7953"
            ],
            [
             0.7777777777777778,
             "#fb9f3a"
            ],
            [
             0.8888888888888888,
             "#fdca26"
            ],
            [
             1,
             "#f0f921"
            ]
           ],
           "sequentialminus": [
            [
             0,
             "#0d0887"
            ],
            [
             0.1111111111111111,
             "#46039f"
            ],
            [
             0.2222222222222222,
             "#7201a8"
            ],
            [
             0.3333333333333333,
             "#9c179e"
            ],
            [
             0.4444444444444444,
             "#bd3786"
            ],
            [
             0.5555555555555556,
             "#d8576b"
            ],
            [
             0.6666666666666666,
             "#ed7953"
            ],
            [
             0.7777777777777778,
             "#fb9f3a"
            ],
            [
             0.8888888888888888,
             "#fdca26"
            ],
            [
             1,
             "#f0f921"
            ]
           ]
          },
          "colorway": [
           "#636efa",
           "#EF553B",
           "#00cc96",
           "#ab63fa",
           "#FFA15A",
           "#19d3f3",
           "#FF6692",
           "#B6E880",
           "#FF97FF",
           "#FECB52"
          ],
          "font": {
           "color": "#2a3f5f"
          },
          "geo": {
           "bgcolor": "white",
           "lakecolor": "white",
           "landcolor": "#E5ECF6",
           "showlakes": true,
           "showland": true,
           "subunitcolor": "white"
          },
          "hoverlabel": {
           "align": "left"
          },
          "hovermode": "closest",
          "mapbox": {
           "style": "light"
          },
          "paper_bgcolor": "white",
          "plot_bgcolor": "#E5ECF6",
          "polar": {
           "angularaxis": {
            "gridcolor": "white",
            "linecolor": "white",
            "ticks": ""
           },
           "bgcolor": "#E5ECF6",
           "radialaxis": {
            "gridcolor": "white",
            "linecolor": "white",
            "ticks": ""
           }
          },
          "scene": {
           "xaxis": {
            "backgroundcolor": "#E5ECF6",
            "gridcolor": "white",
            "gridwidth": 2,
            "linecolor": "white",
            "showbackground": true,
            "ticks": "",
            "zerolinecolor": "white"
           },
           "yaxis": {
            "backgroundcolor": "#E5ECF6",
            "gridcolor": "white",
            "gridwidth": 2,
            "linecolor": "white",
            "showbackground": true,
            "ticks": "",
            "zerolinecolor": "white"
           },
           "zaxis": {
            "backgroundcolor": "#E5ECF6",
            "gridcolor": "white",
            "gridwidth": 2,
            "linecolor": "white",
            "showbackground": true,
            "ticks": "",
            "zerolinecolor": "white"
           }
          },
          "shapedefaults": {
           "line": {
            "color": "#2a3f5f"
           }
          },
          "ternary": {
           "aaxis": {
            "gridcolor": "white",
            "linecolor": "white",
            "ticks": ""
           },
           "baxis": {
            "gridcolor": "white",
            "linecolor": "white",
            "ticks": ""
           },
           "bgcolor": "#E5ECF6",
           "caxis": {
            "gridcolor": "white",
            "linecolor": "white",
            "ticks": ""
           }
          },
          "title": {
           "x": 0.05
          },
          "xaxis": {
           "automargin": true,
           "gridcolor": "white",
           "linecolor": "white",
           "ticks": "",
           "title": {
            "standoff": 15
           },
           "zerolinecolor": "white",
           "zerolinewidth": 2
          },
          "yaxis": {
           "automargin": true,
           "gridcolor": "white",
           "linecolor": "white",
           "ticks": "",
           "title": {
            "standoff": 15
           },
           "zerolinecolor": "white",
           "zerolinewidth": 2
          }
         }
        },
        "width": 1000,
        "xaxis": {
         "anchor": "y",
         "domain": [
          0,
          1
         ],
         "matches": "x4",
         "showticklabels": false
        },
        "xaxis2": {
         "anchor": "y2",
         "domain": [
          0,
          1
         ],
         "matches": "x4",
         "showticklabels": false
        },
        "xaxis3": {
         "anchor": "y3",
         "domain": [
          0,
          1
         ],
         "matches": "x4",
         "showticklabels": false
        },
        "xaxis4": {
         "anchor": "y4",
         "domain": [
          0,
          1
         ],
         "showticklabels": true,
         "tickangle": -60,
         "tickcolor": "#000000",
         "tickfont": {
          "family": "Open Sans",
          "size": 12
         },
         "ticktext": [
          "[CLS]",
          "Amelia",
          "Shepherd",
          ",",
          "M",
          ".",
          "D",
          ".",
          "is",
          "a",
          "fictional",
          "character ...",
          "... portrayed",
          "by",
          "Cat",
          "##erina",
          "Sc",
          "##ors",
          "##one",
          ".",
          "In",
          "her",
          "debut",
          "appearance",
          "in",
          "season",
          "three",
          ",",
          "Amelia",
          "visited",
          "her",
          "former",
          "sister",
          "-",
          "in",
          "-",
          "law",
          ",",
          "Addison",
          "Montgomery",
          ", ...",
          "... Well",
          "##ness",
          "Group",
          ".",
          "[SEP]"
         ],
         "tickvals": [
          0,
          1,
          2,
          3,
          4,
          5,
          6,
          7,
          8,
          9,
          10,
          11,
          12,
          13,
          14,
          15,
          16,
          17,
          18,
          19,
          20,
          21,
          22,
          23,
          24,
          25,
          26,
          27,
          28,
          29,
          30,
          31,
          32,
          33,
          34,
          35,
          36,
          37,
          38,
          39,
          40,
          41,
          42,
          43,
          44,
          45
         ]
        },
        "yaxis": {
         "anchor": "x",
         "domain": [
          0.7649999999999999,
          0.9999999999999999
         ],
         "showticklabels": true,
         "tickcolor": "#000000",
         "ticks": "outside",
         "ticktext": [
          "CR",
          "OW"
         ],
         "tickvals": [
          0,
          1
         ]
        },
        "yaxis2": {
         "anchor": "x2",
         "domain": [
          0.51,
          0.745
         ],
         "showticklabels": true,
         "tickcolor": "#000000",
         "ticks": "outside",
         "ticktext": [
          "CR",
          "OW"
         ],
         "tickvals": [
          0,
          1
         ]
        },
        "yaxis3": {
         "anchor": "x3",
         "domain": [
          0.255,
          0.49
         ],
         "showticklabels": true,
         "tickcolor": "#000000",
         "ticks": "outside",
         "ticktext": [
          "CR",
          "OW"
         ],
         "tickvals": [
          0,
          1
         ]
        },
        "yaxis4": {
         "anchor": "x4",
         "domain": [
          0,
          0.235
         ],
         "showticklabels": true,
         "tickcolor": "#000000",
         "ticks": "outside",
         "ticktext": [
          "CR",
          "OW"
         ],
         "tickvals": [
          0,
          1
         ]
        }
       }
      },
      "text/html": [
       "<div>\n",
       "        \n",
       "        \n",
       "            <div id=\"55814615-8bd4-409c-8f16-d7ac4f6ef8cf\" class=\"plotly-graph-div\" style=\"height:250px; width:1000px;\"></div>\n",
       "            <script type=\"text/javascript\">\n",
       "                require([\"plotly\"], function(Plotly) {\n",
       "                    window.PLOTLYENV=window.PLOTLYENV || {};\n",
       "                    \n",
       "                if (document.getElementById(\"55814615-8bd4-409c-8f16-d7ac4f6ef8cf\")) {\n",
       "                    Plotly.newPlot(\n",
       "                        '55814615-8bd4-409c-8f16-d7ac4f6ef8cf',\n",
       "                        [{\"colorscale\": [[0.0, \"rgb(247,251,255)\"], [0.125, \"rgb(222,235,247)\"], [0.25, \"rgb(198,219,239)\"], [0.375, \"rgb(158,202,225)\"], [0.5, \"rgb(107,174,214)\"], [0.625, \"rgb(66,146,198)\"], [0.75, \"rgb(33,113,181)\"], [0.875, \"rgb(8,81,156)\"], [1.0, \"rgb(8,48,107)\"]], \"showscale\": false, \"type\": \"heatmap\", \"xaxis\": \"x\", \"yaxis\": \"y\", \"z\": [[9.99999993922529e-09, 9.99999993922529e-09, 9.99999993922529e-09, 9.99999993922529e-09, 3.742422549635194e-08, 3.6016633657709463e-06, 1.1502574125188403e-05, 1.850267653935589e-05, 1.8606619960337412e-06, 7.015672167653975e-07, 4.073714808328077e-05, 0.0005298995529301465, 0.0008356212638318539, 0.0012294206535443664, 0.0010705784661695361, 0.45676904916763306, 0.35870829224586487, 0.25503280758857727, 0.29328805208206177, 0.006311540026217699, 0.036671414971351624, 0.0001466119720134884, 9.27195287658833e-05, 0.000668597873300314, 0.0005504809669218957, 0.00035573530476540327, 0.0007970888400450349, 1.1392730314696564e-08, 1.0000717587388408e-08, 0.0008311892743222415, 0.0001213732102769427, 0.0016736850375309587, 0.00507965125143528, 0.005219821818172932, 0.0016227063024416566, 0.0009187433170154691, 0.0005255133146420121, 0.0031296717934310436, 0.0006658879574388266, 2.3195180887114475e-08, 0.0008038435480557382, 4.2669260437833145e-05, 1.3792315257887822e-05, 1.155929385276977e-05, 3.0521750886691734e-05, 9.99999993922529e-09], [9.99999993922529e-09, 9.99999993922529e-09, 9.99999993922529e-09, 1.0034813868742276e-08, 9.99999993922529e-09, 9.99999993922529e-09, 9.99999993922529e-09, 3.01743625641393e-07, 9.99999993922529e-09, 9.99999993922529e-09, 7.161343091866001e-05, 9.99999993922529e-09, 9.99999993922529e-09, 9.99999993922529e-09, 0.49056899547576904, 9.99999993922529e-09, 9.99999993922529e-09, 9.99999993922529e-09, 9.99999993922529e-09, 9.99999993922529e-09, 9.99999993922529e-09, 9.99999993922529e-09, 9.99999993922529e-09, 9.99999993922529e-09, 9.99999993922529e-09, 9.99999993922529e-09, 9.99999993922529e-09, 9.99999993922529e-09, 9.99999993922529e-09, 9.99999993922529e-09, 9.99999993922529e-09, 9.99999993922529e-09, 9.99999993922529e-09, 9.99999993922529e-09, 9.99999993922529e-09, 9.99999993922529e-09, 9.99999993922529e-09, 9.99999993922529e-09, 9.99999993922529e-09, 9.99999993922529e-09, 9.99999993922529e-09, 9.99999993922529e-09, 9.99999993922529e-09, 9.99999993922529e-09, 9.99999993922529e-09, 9.99999993922529e-09]], \"zmax\": 0.9990757703781128, \"zmin\": -0.29999999000000005}, {\"colorscale\": [[0.0, \"rgb(247,251,255)\"], [0.125, \"rgb(222,235,247)\"], [0.25, \"rgb(198,219,239)\"], [0.375, \"rgb(158,202,225)\"], [0.5, \"rgb(107,174,214)\"], [0.625, \"rgb(66,146,198)\"], [0.75, \"rgb(33,113,181)\"], [0.875, \"rgb(8,81,156)\"], [1.0, \"rgb(8,48,107)\"]], \"showscale\": false, \"type\": \"heatmap\", \"xaxis\": \"x2\", \"yaxis\": \"y2\", \"z\": [[9.99999993922529e-09, 9.99999993922529e-09, 9.99999993922529e-09, 9.99999993922529e-09, 9.99999993922529e-09, 3.6016633657709463e-06, 1.1502574125188403e-05, 1.850267653935589e-05, 1.860647785179026e-06, 7.015672167653975e-07, 4.073838863405399e-05, 0.000529543380253017, 0.0008702923078089952, 0.0013339348370209336, 0.0011556192766875029, 2.5094607281062054e-07, 8.833455353851605e-07, 1.0351399168939679e-06, 3.29172435158398e-05, 5.406405034591444e-05, 0.0033932102378457785, 0.0010396981379017234, 7.975652260938659e-05, 0.00020198200945742428, 1.2724874977720901e-05, 3.101847323705442e-05, 9.166720701614395e-06, 1.1952898226752495e-08, 2.632143392133912e-08, 0.0010450875852257013, 0.0003468893119134009, 0.0008591439691372216, 0.0024062269367277622, 0.0007455944432877004, 0.0002743164368439466, 0.00014462947729043663, 0.0002753227890934795, 0.0010919837513938546, 0.008447851985692978, 2.0476279587455792e-06, 0.0042157964780926704, 0.00011394330067560077, 3.2871768780751154e-05, 1.185603832709603e-05, 8.39376025396632e-06, 9.99999993922529e-09], [9.99999993922529e-09, 9.99999993922529e-09, 9.99999993922529e-09, 9.99999993922529e-09, 2.8751525604775452e-08, 1.38654545622785e-08, 9.99999993922529e-09, 9.99999993922529e-09, 2.319268617156922e-07, 2.225100843133987e-06, 9.99999993922529e-09, 9.99999993922529e-09, 9.99999993922529e-09, 9.99999993922529e-09, 9.99999993922529e-09, 9.99999993922529e-09, 9.99999993922529e-09, 9.99999993922529e-09, 9.99999993922529e-09, 9.99999993922529e-09, 9.99999993922529e-09, 9.99999993922529e-09, 9.99999993922529e-09, 9.99999993922529e-09, 9.99999993922529e-09, 9.99999993922529e-09, 9.99999993922529e-09, 9.99999993922529e-09, 9.99999993922529e-09, 9.99999993922529e-09, 0.0005497530219145119, 0.00221240590326488, 9.99999993922529e-09, 2.598266291897744e-05, 8.443403203273192e-06, 5.683955350832548e-07, 5.8672409068094566e-05, 0.11035466939210892, 9.99999993922529e-09, 2.5703712935865042e-08, 7.563956023659557e-05, 1.874927647804725e-06, 7.993615014356692e-08, 1.5389355567663188e-08, 8.63781042426126e-06, 9.99999993922529e-09]], \"zmax\": 0.9990757703781128, \"zmin\": -0.29999999000000005}, {\"colorscale\": [[0.0, \"rgb(247,251,255)\"], [0.125, \"rgb(222,235,247)\"], [0.25, \"rgb(198,219,239)\"], [0.375, \"rgb(158,202,225)\"], [0.5, \"rgb(107,174,214)\"], [0.625, \"rgb(66,146,198)\"], [0.75, \"rgb(33,113,181)\"], [0.875, \"rgb(8,81,156)\"], [1.0, \"rgb(8,48,107)\"]], \"showscale\": false, \"type\": \"heatmap\", \"xaxis\": \"x3\", \"yaxis\": \"y3\", \"z\": [[9.99999993922529e-09, 9.99999993922529e-09, 0.9938104748725891, 0.33022165298461914, 0.6490028500556946, 0.5234131813049316, 0.07187722623348236, 0.15305113792419434, 0.03157157450914383, 0.019567832350730896, 0.0005544485175050795, 0.008051074109971523, 0.0009340427350252867, 0.00011431519669713452, 4.310594158596359e-05, 1.2866248511045342e-08, 1.0006581341315268e-08, 1.0017868312672817e-08, 1.019041917516006e-08, 0.0073526715859770775, 0.002126952400431037, 0.9975358247756958, 0.0043738535605371, 0.000145781843457371, 1.064945990947308e-06, 5.896957645745715e-06, 8.895919449969369e-07, 0.009510940872132778, 0.9877669811248779, 0.007187121547758579, 0.9985933303833008, 8.479692769469693e-05, 6.513275729957968e-05, 7.981552698765881e-07, 3.051038675039308e-07, 5.398631230946194e-08, 1.2108274631827953e-06, 7.621101394761354e-05, 2.036312253039796e-05, 1.0028005092976855e-08, 0.0003427795018069446, 1.2556633954829977e-08, 1.0855510268470425e-08, 1.0054278298810004e-08, 0.0004671167698688805, 9.99999993922529e-09], [9.99999993922529e-09, 0.9990757703781128, 9.99999993922529e-09, 9.99999993922529e-09, 9.99999993922529e-09, 9.99999993922529e-09, 9.99999993922529e-09, 9.99999993922529e-09, 9.99999993922529e-09, 9.99999993922529e-09, 9.99999993922529e-09, 9.99999993922529e-09, 9.99999993922529e-09, 9.99999993922529e-09, 9.99999993922529e-09, 9.99999993922529e-09, 9.99999993922529e-09, 9.99999993922529e-09, 9.99999993922529e-09, 9.99999993922529e-09, 9.99999993922529e-09, 9.99999993922529e-09, 9.99999993922529e-09, 9.99999993922529e-09, 9.99999993922529e-09, 9.99999993922529e-09, 9.99999993922529e-09, 9.99999993922529e-09, 9.99999993922529e-09, 9.99999993922529e-09, 9.99999993922529e-09, 9.99999993922529e-09, 9.99999993922529e-09, 9.99999993922529e-09, 9.99999993922529e-09, 9.99999993922529e-09, 9.99999993922529e-09, 9.99999993922529e-09, 9.99999993922529e-09, 9.99999993922529e-09, 9.99999993922529e-09, 9.99999993922529e-09, 9.99999993922529e-09, 9.99999993922529e-09, 9.99999993922529e-09, 9.99999993922529e-09]], \"zmax\": 0.9990757703781128, \"zmin\": -0.29999999000000005}, {\"colorscale\": [[0.0, \"rgb(247,251,255)\"], [0.125, \"rgb(222,235,247)\"], [0.25, \"rgb(198,219,239)\"], [0.375, \"rgb(158,202,225)\"], [0.5, \"rgb(107,174,214)\"], [0.625, \"rgb(66,146,198)\"], [0.75, \"rgb(33,113,181)\"], [0.875, \"rgb(8,81,156)\"], [1.0, \"rgb(8,48,107)\"]], \"showscale\": false, \"type\": \"heatmap\", \"xaxis\": \"x4\", \"yaxis\": \"y4\", \"z\": [[9.99999993922529e-09, 9.99999993922529e-09, 9.99999993922529e-09, 1.4386481339556667e-08, 3.742422549635194e-08, 3.6016633657709463e-06, 1.1502574125188403e-05, 1.8502925740904175e-05, 1.860667339315114e-06, 7.015698884060839e-07, 4.0737257222644985e-05, 0.0005295295268297195, 0.0008385168621316552, 0.0012231608852744102, 0.0011135634267702699, 2.335212485604643e-07, 7.814593914190482e-07, 9.948505521606421e-07, 2.94993951683864e-05, 5.7684974308358505e-05, 0.0033614560961723328, 0.0011827656999230385, 8.409912697970867e-05, 0.0001928992714965716, 1.1390545296308119e-05, 2.7302065063850023e-05, 8.142599654092919e-06, 1.2235782165248565e-08, 3.128887016146109e-08, 0.001079964218661189, 0.00038800432230345905, 0.0008329058182425797, 0.0022303860168904066, 0.0006607442628592253, 0.0002417428622720763, 0.00012780730321537703, 0.00025137438206002116, 0.0010662070708349347, 0.0024080805014818907, 0.5220337510108948, 0.01848609186708927, 0.002043738029897213, 0.0007138436776585877, 0.0007173925405368209, 1.2969282579433639e-05, 9.99999993922529e-09], [9.99999993922529e-09, 9.99999993922529e-09, 1.0002267458730785e-08, 9.99999993922529e-09, 9.99999993922529e-09, 9.99999993922529e-09, 5.880055482521129e-07, 9.99999993922529e-09, 9.99999993922529e-09, 9.99999993922529e-09, 9.99999993922529e-09, 0.002664875704795122, 0.0012422528816387057, 0.006375639233738184, 9.99999993922529e-09, 7.70493261370575e-06, 2.1383492310178553e-08, 1.0390214910671602e-08, 1.150869799459997e-08, 1.3544286048272625e-07, 0.0009280568920075893, 9.514678095001727e-05, 4.801615432370454e-05, 6.537497392855585e-05, 8.929959562919976e-07, 4.053892098454526e-06, 2.5885123022817424e-07, 3.045691698844166e-08, 1.0593336874364923e-08, 0.001294247223995626, 9.99999993922529e-09, 9.99999993922529e-09, 0.0043252259492874146, 9.99999993922529e-09, 9.99999993922529e-09, 9.99999993922529e-09, 9.99999993922529e-09, 9.99999993922529e-09, 0.5072919130325317, 9.99999993922529e-09, 9.99999993922529e-09, 9.99999993922529e-09, 9.99999993922529e-09, 9.99999993922529e-09, 9.99999993922529e-09, 9.99999993922529e-09]], \"zmax\": 0.9990757703781128, \"zmin\": -0.29999999000000005}],\n",
       "                        {\"annotations\": [{\"font\": {\"size\": 16}, \"showarrow\": false, \"text\": \"Memory Cells\", \"textangle\": -90, \"x\": 0, \"xanchor\": \"right\", \"xref\": \"paper\", \"xshift\": -40, \"y\": 0.5, \"yanchor\": \"middle\", \"yref\": \"paper\"}], \"height\": 250, \"margin\": {\"b\": 5, \"l\": 60, \"r\": 5, \"t\": 5}, \"template\": {\"data\": {\"bar\": [{\"error_x\": {\"color\": \"#2a3f5f\"}, \"error_y\": {\"color\": \"#2a3f5f\"}, \"marker\": {\"line\": {\"color\": \"#E5ECF6\", \"width\": 0.5}}, \"type\": \"bar\"}], \"barpolar\": [{\"marker\": {\"line\": {\"color\": \"#E5ECF6\", \"width\": 0.5}}, \"type\": \"barpolar\"}], \"carpet\": [{\"aaxis\": {\"endlinecolor\": \"#2a3f5f\", \"gridcolor\": \"white\", \"linecolor\": \"white\", \"minorgridcolor\": \"white\", \"startlinecolor\": \"#2a3f5f\"}, \"baxis\": {\"endlinecolor\": \"#2a3f5f\", \"gridcolor\": \"white\", \"linecolor\": \"white\", \"minorgridcolor\": \"white\", \"startlinecolor\": \"#2a3f5f\"}, \"type\": \"carpet\"}], \"choropleth\": [{\"colorbar\": {\"outlinewidth\": 0, \"ticks\": \"\"}, \"type\": \"choropleth\"}], \"contour\": [{\"colorbar\": {\"outlinewidth\": 0, \"ticks\": \"\"}, \"colorscale\": [[0.0, \"#0d0887\"], [0.1111111111111111, \"#46039f\"], [0.2222222222222222, \"#7201a8\"], [0.3333333333333333, \"#9c179e\"], [0.4444444444444444, \"#bd3786\"], [0.5555555555555556, \"#d8576b\"], [0.6666666666666666, \"#ed7953\"], [0.7777777777777778, \"#fb9f3a\"], [0.8888888888888888, \"#fdca26\"], [1.0, \"#f0f921\"]], \"type\": \"contour\"}], \"contourcarpet\": [{\"colorbar\": {\"outlinewidth\": 0, \"ticks\": \"\"}, \"type\": \"contourcarpet\"}], \"heatmap\": [{\"colorbar\": {\"outlinewidth\": 0, \"ticks\": \"\"}, \"colorscale\": [[0.0, \"#0d0887\"], [0.1111111111111111, \"#46039f\"], [0.2222222222222222, \"#7201a8\"], [0.3333333333333333, \"#9c179e\"], [0.4444444444444444, \"#bd3786\"], [0.5555555555555556, \"#d8576b\"], [0.6666666666666666, \"#ed7953\"], [0.7777777777777778, \"#fb9f3a\"], [0.8888888888888888, \"#fdca26\"], [1.0, \"#f0f921\"]], \"type\": \"heatmap\"}], \"heatmapgl\": [{\"colorbar\": {\"outlinewidth\": 0, \"ticks\": \"\"}, \"colorscale\": [[0.0, \"#0d0887\"], [0.1111111111111111, \"#46039f\"], [0.2222222222222222, \"#7201a8\"], [0.3333333333333333, \"#9c179e\"], [0.4444444444444444, \"#bd3786\"], [0.5555555555555556, \"#d8576b\"], [0.6666666666666666, \"#ed7953\"], [0.7777777777777778, \"#fb9f3a\"], [0.8888888888888888, \"#fdca26\"], [1.0, \"#f0f921\"]], \"type\": \"heatmapgl\"}], \"histogram\": [{\"marker\": {\"colorbar\": {\"outlinewidth\": 0, \"ticks\": \"\"}}, \"type\": \"histogram\"}], \"histogram2d\": [{\"colorbar\": {\"outlinewidth\": 0, \"ticks\": \"\"}, \"colorscale\": [[0.0, \"#0d0887\"], [0.1111111111111111, \"#46039f\"], [0.2222222222222222, \"#7201a8\"], [0.3333333333333333, \"#9c179e\"], [0.4444444444444444, \"#bd3786\"], [0.5555555555555556, \"#d8576b\"], [0.6666666666666666, \"#ed7953\"], [0.7777777777777778, \"#fb9f3a\"], [0.8888888888888888, \"#fdca26\"], [1.0, \"#f0f921\"]], \"type\": \"histogram2d\"}], \"histogram2dcontour\": [{\"colorbar\": {\"outlinewidth\": 0, \"ticks\": \"\"}, \"colorscale\": [[0.0, \"#0d0887\"], [0.1111111111111111, \"#46039f\"], [0.2222222222222222, \"#7201a8\"], [0.3333333333333333, \"#9c179e\"], [0.4444444444444444, \"#bd3786\"], [0.5555555555555556, \"#d8576b\"], [0.6666666666666666, \"#ed7953\"], [0.7777777777777778, \"#fb9f3a\"], [0.8888888888888888, \"#fdca26\"], [1.0, \"#f0f921\"]], \"type\": \"histogram2dcontour\"}], \"mesh3d\": [{\"colorbar\": {\"outlinewidth\": 0, \"ticks\": \"\"}, \"type\": \"mesh3d\"}], \"parcoords\": [{\"line\": {\"colorbar\": {\"outlinewidth\": 0, \"ticks\": \"\"}}, \"type\": \"parcoords\"}], \"pie\": [{\"automargin\": true, \"type\": \"pie\"}], \"scatter\": [{\"marker\": {\"colorbar\": {\"outlinewidth\": 0, \"ticks\": \"\"}}, \"type\": \"scatter\"}], \"scatter3d\": [{\"line\": {\"colorbar\": {\"outlinewidth\": 0, \"ticks\": \"\"}}, \"marker\": {\"colorbar\": {\"outlinewidth\": 0, \"ticks\": \"\"}}, \"type\": \"scatter3d\"}], \"scattercarpet\": [{\"marker\": {\"colorbar\": {\"outlinewidth\": 0, \"ticks\": \"\"}}, \"type\": \"scattercarpet\"}], \"scattergeo\": [{\"marker\": {\"colorbar\": {\"outlinewidth\": 0, \"ticks\": \"\"}}, \"type\": \"scattergeo\"}], \"scattergl\": [{\"marker\": {\"colorbar\": {\"outlinewidth\": 0, \"ticks\": \"\"}}, \"type\": \"scattergl\"}], \"scattermapbox\": [{\"marker\": {\"colorbar\": {\"outlinewidth\": 0, \"ticks\": \"\"}}, \"type\": \"scattermapbox\"}], \"scatterpolar\": [{\"marker\": {\"colorbar\": {\"outlinewidth\": 0, \"ticks\": \"\"}}, \"type\": \"scatterpolar\"}], \"scatterpolargl\": [{\"marker\": {\"colorbar\": {\"outlinewidth\": 0, \"ticks\": \"\"}}, \"type\": \"scatterpolargl\"}], \"scatterternary\": [{\"marker\": {\"colorbar\": {\"outlinewidth\": 0, \"ticks\": \"\"}}, \"type\": \"scatterternary\"}], \"surface\": [{\"colorbar\": {\"outlinewidth\": 0, \"ticks\": \"\"}, \"colorscale\": [[0.0, \"#0d0887\"], [0.1111111111111111, \"#46039f\"], [0.2222222222222222, \"#7201a8\"], [0.3333333333333333, \"#9c179e\"], [0.4444444444444444, \"#bd3786\"], [0.5555555555555556, \"#d8576b\"], [0.6666666666666666, \"#ed7953\"], [0.7777777777777778, \"#fb9f3a\"], [0.8888888888888888, \"#fdca26\"], [1.0, \"#f0f921\"]], \"type\": \"surface\"}], \"table\": [{\"cells\": {\"fill\": {\"color\": \"#EBF0F8\"}, \"line\": {\"color\": \"white\"}}, \"header\": {\"fill\": {\"color\": \"#C8D4E3\"}, \"line\": {\"color\": \"white\"}}, \"type\": \"table\"}]}, \"layout\": {\"annotationdefaults\": {\"arrowcolor\": \"#2a3f5f\", \"arrowhead\": 0, \"arrowwidth\": 1}, \"coloraxis\": {\"colorbar\": {\"outlinewidth\": 0, \"ticks\": \"\"}}, \"colorscale\": {\"diverging\": [[0, \"#8e0152\"], [0.1, \"#c51b7d\"], [0.2, \"#de77ae\"], [0.3, \"#f1b6da\"], [0.4, \"#fde0ef\"], [0.5, \"#f7f7f7\"], [0.6, \"#e6f5d0\"], [0.7, \"#b8e186\"], [0.8, \"#7fbc41\"], [0.9, \"#4d9221\"], [1, \"#276419\"]], \"sequential\": [[0.0, \"#0d0887\"], [0.1111111111111111, \"#46039f\"], [0.2222222222222222, \"#7201a8\"], [0.3333333333333333, \"#9c179e\"], [0.4444444444444444, \"#bd3786\"], [0.5555555555555556, \"#d8576b\"], [0.6666666666666666, \"#ed7953\"], [0.7777777777777778, \"#fb9f3a\"], [0.8888888888888888, \"#fdca26\"], [1.0, \"#f0f921\"]], \"sequentialminus\": [[0.0, \"#0d0887\"], [0.1111111111111111, \"#46039f\"], [0.2222222222222222, \"#7201a8\"], [0.3333333333333333, \"#9c179e\"], [0.4444444444444444, \"#bd3786\"], [0.5555555555555556, \"#d8576b\"], [0.6666666666666666, \"#ed7953\"], [0.7777777777777778, \"#fb9f3a\"], [0.8888888888888888, \"#fdca26\"], [1.0, \"#f0f921\"]]}, \"colorway\": [\"#636efa\", \"#EF553B\", \"#00cc96\", \"#ab63fa\", \"#FFA15A\", \"#19d3f3\", \"#FF6692\", \"#B6E880\", \"#FF97FF\", \"#FECB52\"], \"font\": {\"color\": \"#2a3f5f\"}, \"geo\": {\"bgcolor\": \"white\", \"lakecolor\": \"white\", \"landcolor\": \"#E5ECF6\", \"showlakes\": true, \"showland\": true, \"subunitcolor\": \"white\"}, \"hoverlabel\": {\"align\": \"left\"}, \"hovermode\": \"closest\", \"mapbox\": {\"style\": \"light\"}, \"paper_bgcolor\": \"white\", \"plot_bgcolor\": \"#E5ECF6\", \"polar\": {\"angularaxis\": {\"gridcolor\": \"white\", \"linecolor\": \"white\", \"ticks\": \"\"}, \"bgcolor\": \"#E5ECF6\", \"radialaxis\": {\"gridcolor\": \"white\", \"linecolor\": \"white\", \"ticks\": \"\"}}, \"scene\": {\"xaxis\": {\"backgroundcolor\": \"#E5ECF6\", \"gridcolor\": \"white\", \"gridwidth\": 2, \"linecolor\": \"white\", \"showbackground\": true, \"ticks\": \"\", \"zerolinecolor\": \"white\"}, \"yaxis\": {\"backgroundcolor\": \"#E5ECF6\", \"gridcolor\": \"white\", \"gridwidth\": 2, \"linecolor\": \"white\", \"showbackground\": true, \"ticks\": \"\", \"zerolinecolor\": \"white\"}, \"zaxis\": {\"backgroundcolor\": \"#E5ECF6\", \"gridcolor\": \"white\", \"gridwidth\": 2, \"linecolor\": \"white\", \"showbackground\": true, \"ticks\": \"\", \"zerolinecolor\": \"white\"}}, \"shapedefaults\": {\"line\": {\"color\": \"#2a3f5f\"}}, \"ternary\": {\"aaxis\": {\"gridcolor\": \"white\", \"linecolor\": \"white\", \"ticks\": \"\"}, \"baxis\": {\"gridcolor\": \"white\", \"linecolor\": \"white\", \"ticks\": \"\"}, \"bgcolor\": \"#E5ECF6\", \"caxis\": {\"gridcolor\": \"white\", \"linecolor\": \"white\", \"ticks\": \"\"}}, \"title\": {\"x\": 0.05}, \"xaxis\": {\"automargin\": true, \"gridcolor\": \"white\", \"linecolor\": \"white\", \"ticks\": \"\", \"title\": {\"standoff\": 15}, \"zerolinecolor\": \"white\", \"zerolinewidth\": 2}, \"yaxis\": {\"automargin\": true, \"gridcolor\": \"white\", \"linecolor\": \"white\", \"ticks\": \"\", \"title\": {\"standoff\": 15}, \"zerolinecolor\": \"white\", \"zerolinewidth\": 2}}}, \"width\": 1000, \"xaxis\": {\"anchor\": \"y\", \"domain\": [0.0, 1.0], \"matches\": \"x4\", \"showticklabels\": false}, \"xaxis2\": {\"anchor\": \"y2\", \"domain\": [0.0, 1.0], \"matches\": \"x4\", \"showticklabels\": false}, \"xaxis3\": {\"anchor\": \"y3\", \"domain\": [0.0, 1.0], \"matches\": \"x4\", \"showticklabels\": false}, \"xaxis4\": {\"anchor\": \"y4\", \"domain\": [0.0, 1.0], \"showticklabels\": true, \"tickangle\": -60, \"tickcolor\": \"#000000\", \"tickfont\": {\"family\": \"Open Sans\", \"size\": 12}, \"ticktext\": [\"[CLS]\", \"Amelia\", \"Shepherd\", \",\", \"M\", \".\", \"D\", \".\", \"is\", \"a\", \"fictional\", \"character ...\", \"... portrayed\", \"by\", \"Cat\", \"##erina\", \"Sc\", \"##ors\", \"##one\", \".\", \"In\", \"her\", \"debut\", \"appearance\", \"in\", \"season\", \"three\", \",\", \"Amelia\", \"visited\", \"her\", \"former\", \"sister\", \"-\", \"in\", \"-\", \"law\", \",\", \"Addison\", \"Montgomery\", \", ...\", \"... Well\", \"##ness\", \"Group\", \".\", \"[SEP]\"], \"tickvals\": [0, 1, 2, 3, 4, 5, 6, 7, 8, 9, 10, 11, 12, 13, 14, 15, 16, 17, 18, 19, 20, 21, 22, 23, 24, 25, 26, 27, 28, 29, 30, 31, 32, 33, 34, 35, 36, 37, 38, 39, 40, 41, 42, 43, 44, 45]}, \"yaxis\": {\"anchor\": \"x\", \"domain\": [0.7649999999999999, 0.9999999999999999], \"showticklabels\": true, \"tickcolor\": \"#000000\", \"ticks\": \"outside\", \"ticktext\": [\"CR\", \"OW\"], \"tickvals\": [0, 1]}, \"yaxis2\": {\"anchor\": \"x2\", \"domain\": [0.51, 0.745], \"showticklabels\": true, \"tickcolor\": \"#000000\", \"ticks\": \"outside\", \"ticktext\": [\"CR\", \"OW\"], \"tickvals\": [0, 1]}, \"yaxis3\": {\"anchor\": \"x3\", \"domain\": [0.255, 0.49], \"showticklabels\": true, \"tickcolor\": \"#000000\", \"ticks\": \"outside\", \"ticktext\": [\"CR\", \"OW\"], \"tickvals\": [0, 1]}, \"yaxis4\": {\"anchor\": \"x4\", \"domain\": [0.0, 0.235], \"showticklabels\": true, \"tickcolor\": \"#000000\", \"ticks\": \"outside\", \"ticktext\": [\"CR\", \"OW\"], \"tickvals\": [0, 1]}},\n",
       "                        {\"responsive\": true}\n",
       "                    ).then(function(){\n",
       "                            \n",
       "var gd = document.getElementById('55814615-8bd4-409c-8f16-d7ac4f6ef8cf');\n",
       "var x = new MutationObserver(function (mutations, observer) {{\n",
       "        var display = window.getComputedStyle(gd).display;\n",
       "        if (!display || display === 'none') {{\n",
       "            console.log([gd, 'removed!']);\n",
       "            Plotly.purge(gd);\n",
       "            observer.disconnect();\n",
       "        }}\n",
       "}});\n",
       "\n",
       "// Listen for the removal of the full notebook cells\n",
       "var notebookContainer = gd.closest('#notebook-container');\n",
       "if (notebookContainer) {{\n",
       "    x.observe(notebookContainer, {childList: true});\n",
       "}}\n",
       "\n",
       "// Listen for the clearing of the current output cell\n",
       "var outputEl = gd.closest('.output');\n",
       "if (outputEl) {{\n",
       "    x.observe(outputEl, {childList: true});\n",
       "}}\n",
       "\n",
       "                        })\n",
       "                };\n",
       "                });\n",
       "            </script>\n",
       "        </div>"
      ]
     },
     "metadata": {},
     "output_type": "display_data"
    }
   ],
   "source": [
    "make_plot(num_cells, text, coref, overwrite)"
   ]
  },
  {
   "cell_type": "markdown",
   "metadata": {},
   "source": [
    "### Too much text - Reduce text!\n",
    "For most of the text nothing is happening in the memory. <br/>\n",
    "We can remove those parts by ellipsis. "
   ]
  },
  {
   "cell_type": "code",
   "execution_count": 27,
   "metadata": {},
   "outputs": [
    {
     "name": "stdout",
     "output_type": "stream",
     "text": [
      "(4, 46) (4, 46)\n"
     ]
    }
   ],
   "source": [
    "# Skip the uninteresting portions of the text and the corresponding overwrite & coref vectors\n",
    "def skip_data_op(skip_list, array):\n",
    "    array_list = [array]\n",
    "    cur_offset = 0\n",
    "    for (start_point, end_point) in skip_list:\n",
    "        last_item = np.array(array_list[-1])\n",
    "        del array_list[-1]\n",
    "        array_list.append(last_item[:, :start_point-cur_offset])\n",
    "        array_list.append(last_item[:, end_point-cur_offset:])\n",
    "        cur_offset = end_point\n",
    "        \n",
    "    return np.concatenate(array_list, axis=1)\n",
    "\n",
    "def skip_text_fn(skip_list, text):\n",
    "    text_list = [text]\n",
    "    cur_offset = 0\n",
    "    for (start_point, end_point) in skip_list:\n",
    "        last_item = text_list[-1]\n",
    "        del text_list[-1]\n",
    "        a1 = last_item[:start_point-cur_offset]\n",
    "        a1 = a1[:-1] + [a1[-1] + \" ...\"]\n",
    "        text_list.append(a1)\n",
    "        \n",
    "        a2 = last_item[end_point-cur_offset:]\n",
    "        a2 =  [\"... \" + a2[0]] + a2[1:]\n",
    "        text_list.append(a2)\n",
    "        \n",
    "        cur_offset = end_point\n",
    "        \n",
    "    final_text = []\n",
    "    for text_piece in text_list:\n",
    "        final_text.extend(text_piece)\n",
    "        \n",
    "    return final_text\n",
    "\n",
    "\n",
    "## Remove the uninteresting portions\n",
    "skip_list = [(12, 38), (67, 75)]\n",
    "\n",
    "overwrite = skip_data_op(skip_list, overwrite)\n",
    "coref = skip_data_op(skip_list, coref)\n",
    "\n",
    "text = skip_text_fn(skip_list, text)\n",
    "print(overwrite.shape, coref.shape)  # Reduced text length"
   ]
  },
  {
   "cell_type": "code",
   "execution_count": 28,
   "metadata": {},
   "outputs": [
    {
     "data": {
      "application/vnd.plotly.v1+json": {
       "config": {
        "plotlyServerURL": "https://plot.ly"
       },
       "data": [
        {
         "colorscale": [
          [
           0,
           "rgb(247,251,255)"
          ],
          [
           0.125,
           "rgb(222,235,247)"
          ],
          [
           0.25,
           "rgb(198,219,239)"
          ],
          [
           0.375,
           "rgb(158,202,225)"
          ],
          [
           0.5,
           "rgb(107,174,214)"
          ],
          [
           0.625,
           "rgb(66,146,198)"
          ],
          [
           0.75,
           "rgb(33,113,181)"
          ],
          [
           0.875,
           "rgb(8,81,156)"
          ],
          [
           1,
           "rgb(8,48,107)"
          ]
         ],
         "showscale": false,
         "type": "heatmap",
         "xaxis": "x",
         "yaxis": "y",
         "z": [
          [
           9.99999993922529e-09,
           9.99999993922529e-09,
           9.99999993922529e-09,
           9.99999993922529e-09,
           3.742422549635194e-08,
           3.6016633657709463e-06,
           1.1502574125188403e-05,
           1.850267653935589e-05,
           1.8606619960337412e-06,
           7.015672167653975e-07,
           4.073714808328077e-05,
           0.0005298995529301465,
           0.0008356212638318539,
           0.0012294206535443664,
           0.0010705784661695361,
           0.45676904916763306,
           0.35870829224586487,
           0.25503280758857727,
           0.29328805208206177,
           0.006311540026217699,
           0.036671414971351624,
           0.0001466119720134884,
           9.27195287658833e-05,
           0.000668597873300314,
           0.0005504809669218957,
           0.00035573530476540327,
           0.0007970888400450349,
           1.1392730314696564e-08,
           1.0000717587388408e-08,
           0.0008311892743222415,
           0.0001213732102769427,
           0.0016736850375309587,
           0.00507965125143528,
           0.005219821818172932,
           0.0016227063024416566,
           0.0009187433170154691,
           0.0005255133146420121,
           0.0031296717934310436,
           0.0006658879574388266,
           2.3195180887114475e-08,
           0.0008038435480557382,
           4.2669260437833145e-05,
           1.3792315257887822e-05,
           1.155929385276977e-05,
           3.0521750886691734e-05,
           9.99999993922529e-09
          ],
          [
           9.99999993922529e-09,
           9.99999993922529e-09,
           9.99999993922529e-09,
           1.0034813868742276e-08,
           9.99999993922529e-09,
           9.99999993922529e-09,
           9.99999993922529e-09,
           3.01743625641393e-07,
           9.99999993922529e-09,
           9.99999993922529e-09,
           7.161343091866001e-05,
           9.99999993922529e-09,
           9.99999993922529e-09,
           9.99999993922529e-09,
           0.49056899547576904,
           9.99999993922529e-09,
           9.99999993922529e-09,
           9.99999993922529e-09,
           9.99999993922529e-09,
           9.99999993922529e-09,
           9.99999993922529e-09,
           9.99999993922529e-09,
           9.99999993922529e-09,
           9.99999993922529e-09,
           9.99999993922529e-09,
           9.99999993922529e-09,
           9.99999993922529e-09,
           9.99999993922529e-09,
           9.99999993922529e-09,
           9.99999993922529e-09,
           9.99999993922529e-09,
           9.99999993922529e-09,
           9.99999993922529e-09,
           9.99999993922529e-09,
           9.99999993922529e-09,
           9.99999993922529e-09,
           9.99999993922529e-09,
           9.99999993922529e-09,
           9.99999993922529e-09,
           9.99999993922529e-09,
           9.99999993922529e-09,
           9.99999993922529e-09,
           9.99999993922529e-09,
           9.99999993922529e-09,
           9.99999993922529e-09,
           9.99999993922529e-09
          ]
         ],
         "zmax": 0.9990757703781128,
         "zmin": -0.29999999000000005
        },
        {
         "colorscale": [
          [
           0,
           "rgb(247,251,255)"
          ],
          [
           0.125,
           "rgb(222,235,247)"
          ],
          [
           0.25,
           "rgb(198,219,239)"
          ],
          [
           0.375,
           "rgb(158,202,225)"
          ],
          [
           0.5,
           "rgb(107,174,214)"
          ],
          [
           0.625,
           "rgb(66,146,198)"
          ],
          [
           0.75,
           "rgb(33,113,181)"
          ],
          [
           0.875,
           "rgb(8,81,156)"
          ],
          [
           1,
           "rgb(8,48,107)"
          ]
         ],
         "showscale": false,
         "type": "heatmap",
         "xaxis": "x2",
         "yaxis": "y2",
         "z": [
          [
           9.99999993922529e-09,
           9.99999993922529e-09,
           9.99999993922529e-09,
           9.99999993922529e-09,
           9.99999993922529e-09,
           3.6016633657709463e-06,
           1.1502574125188403e-05,
           1.850267653935589e-05,
           1.860647785179026e-06,
           7.015672167653975e-07,
           4.073838863405399e-05,
           0.000529543380253017,
           0.0008702923078089952,
           0.0013339348370209336,
           0.0011556192766875029,
           2.5094607281062054e-07,
           8.833455353851605e-07,
           1.0351399168939679e-06,
           3.29172435158398e-05,
           5.406405034591444e-05,
           0.0033932102378457785,
           0.0010396981379017234,
           7.975652260938659e-05,
           0.00020198200945742428,
           1.2724874977720901e-05,
           3.101847323705442e-05,
           9.166720701614395e-06,
           1.1952898226752495e-08,
           2.632143392133912e-08,
           0.0010450875852257013,
           0.0003468893119134009,
           0.0008591439691372216,
           0.0024062269367277622,
           0.0007455944432877004,
           0.0002743164368439466,
           0.00014462947729043663,
           0.0002753227890934795,
           0.0010919837513938546,
           0.008447851985692978,
           2.0476279587455792e-06,
           0.0042157964780926704,
           0.00011394330067560077,
           3.2871768780751154e-05,
           1.185603832709603e-05,
           8.39376025396632e-06,
           9.99999993922529e-09
          ],
          [
           9.99999993922529e-09,
           9.99999993922529e-09,
           9.99999993922529e-09,
           9.99999993922529e-09,
           2.8751525604775452e-08,
           1.38654545622785e-08,
           9.99999993922529e-09,
           9.99999993922529e-09,
           2.319268617156922e-07,
           2.225100843133987e-06,
           9.99999993922529e-09,
           9.99999993922529e-09,
           9.99999993922529e-09,
           9.99999993922529e-09,
           9.99999993922529e-09,
           9.99999993922529e-09,
           9.99999993922529e-09,
           9.99999993922529e-09,
           9.99999993922529e-09,
           9.99999993922529e-09,
           9.99999993922529e-09,
           9.99999993922529e-09,
           9.99999993922529e-09,
           9.99999993922529e-09,
           9.99999993922529e-09,
           9.99999993922529e-09,
           9.99999993922529e-09,
           9.99999993922529e-09,
           9.99999993922529e-09,
           9.99999993922529e-09,
           0.0005497530219145119,
           0.00221240590326488,
           9.99999993922529e-09,
           2.598266291897744e-05,
           8.443403203273192e-06,
           5.683955350832548e-07,
           5.8672409068094566e-05,
           0.11035466939210892,
           9.99999993922529e-09,
           2.5703712935865042e-08,
           7.563956023659557e-05,
           1.874927647804725e-06,
           7.993615014356692e-08,
           1.5389355567663188e-08,
           8.63781042426126e-06,
           9.99999993922529e-09
          ]
         ],
         "zmax": 0.9990757703781128,
         "zmin": -0.29999999000000005
        },
        {
         "colorscale": [
          [
           0,
           "rgb(247,251,255)"
          ],
          [
           0.125,
           "rgb(222,235,247)"
          ],
          [
           0.25,
           "rgb(198,219,239)"
          ],
          [
           0.375,
           "rgb(158,202,225)"
          ],
          [
           0.5,
           "rgb(107,174,214)"
          ],
          [
           0.625,
           "rgb(66,146,198)"
          ],
          [
           0.75,
           "rgb(33,113,181)"
          ],
          [
           0.875,
           "rgb(8,81,156)"
          ],
          [
           1,
           "rgb(8,48,107)"
          ]
         ],
         "showscale": false,
         "type": "heatmap",
         "xaxis": "x3",
         "yaxis": "y3",
         "z": [
          [
           9.99999993922529e-09,
           9.99999993922529e-09,
           0.9938104748725891,
           0.33022165298461914,
           0.6490028500556946,
           0.5234131813049316,
           0.07187722623348236,
           0.15305113792419434,
           0.03157157450914383,
           0.019567832350730896,
           0.0005544485175050795,
           0.008051074109971523,
           0.0009340427350252867,
           0.00011431519669713452,
           4.310594158596359e-05,
           1.2866248511045342e-08,
           1.0006581341315268e-08,
           1.0017868312672817e-08,
           1.019041917516006e-08,
           0.0073526715859770775,
           0.002126952400431037,
           0.9975358247756958,
           0.0043738535605371,
           0.000145781843457371,
           1.064945990947308e-06,
           5.896957645745715e-06,
           8.895919449969369e-07,
           0.009510940872132778,
           0.9877669811248779,
           0.007187121547758579,
           0.9985933303833008,
           8.479692769469693e-05,
           6.513275729957968e-05,
           7.981552698765881e-07,
           3.051038675039308e-07,
           5.398631230946194e-08,
           1.2108274631827953e-06,
           7.621101394761354e-05,
           2.036312253039796e-05,
           1.0028005092976855e-08,
           0.0003427795018069446,
           1.2556633954829977e-08,
           1.0855510268470425e-08,
           1.0054278298810004e-08,
           0.0004671167698688805,
           9.99999993922529e-09
          ],
          [
           9.99999993922529e-09,
           0.9990757703781128,
           9.99999993922529e-09,
           9.99999993922529e-09,
           9.99999993922529e-09,
           9.99999993922529e-09,
           9.99999993922529e-09,
           9.99999993922529e-09,
           9.99999993922529e-09,
           9.99999993922529e-09,
           9.99999993922529e-09,
           9.99999993922529e-09,
           9.99999993922529e-09,
           9.99999993922529e-09,
           9.99999993922529e-09,
           9.99999993922529e-09,
           9.99999993922529e-09,
           9.99999993922529e-09,
           9.99999993922529e-09,
           9.99999993922529e-09,
           9.99999993922529e-09,
           9.99999993922529e-09,
           9.99999993922529e-09,
           9.99999993922529e-09,
           9.99999993922529e-09,
           9.99999993922529e-09,
           9.99999993922529e-09,
           9.99999993922529e-09,
           9.99999993922529e-09,
           9.99999993922529e-09,
           9.99999993922529e-09,
           9.99999993922529e-09,
           9.99999993922529e-09,
           9.99999993922529e-09,
           9.99999993922529e-09,
           9.99999993922529e-09,
           9.99999993922529e-09,
           9.99999993922529e-09,
           9.99999993922529e-09,
           9.99999993922529e-09,
           9.99999993922529e-09,
           9.99999993922529e-09,
           9.99999993922529e-09,
           9.99999993922529e-09,
           9.99999993922529e-09,
           9.99999993922529e-09
          ]
         ],
         "zmax": 0.9990757703781128,
         "zmin": -0.29999999000000005
        },
        {
         "colorscale": [
          [
           0,
           "rgb(247,251,255)"
          ],
          [
           0.125,
           "rgb(222,235,247)"
          ],
          [
           0.25,
           "rgb(198,219,239)"
          ],
          [
           0.375,
           "rgb(158,202,225)"
          ],
          [
           0.5,
           "rgb(107,174,214)"
          ],
          [
           0.625,
           "rgb(66,146,198)"
          ],
          [
           0.75,
           "rgb(33,113,181)"
          ],
          [
           0.875,
           "rgb(8,81,156)"
          ],
          [
           1,
           "rgb(8,48,107)"
          ]
         ],
         "showscale": false,
         "type": "heatmap",
         "xaxis": "x4",
         "yaxis": "y4",
         "z": [
          [
           9.99999993922529e-09,
           9.99999993922529e-09,
           9.99999993922529e-09,
           1.4386481339556667e-08,
           3.742422549635194e-08,
           3.6016633657709463e-06,
           1.1502574125188403e-05,
           1.8502925740904175e-05,
           1.860667339315114e-06,
           7.015698884060839e-07,
           4.0737257222644985e-05,
           0.0005295295268297195,
           0.0008385168621316552,
           0.0012231608852744102,
           0.0011135634267702699,
           2.335212485604643e-07,
           7.814593914190482e-07,
           9.948505521606421e-07,
           2.94993951683864e-05,
           5.7684974308358505e-05,
           0.0033614560961723328,
           0.0011827656999230385,
           8.409912697970867e-05,
           0.0001928992714965716,
           1.1390545296308119e-05,
           2.7302065063850023e-05,
           8.142599654092919e-06,
           1.2235782165248565e-08,
           3.128887016146109e-08,
           0.001079964218661189,
           0.00038800432230345905,
           0.0008329058182425797,
           0.0022303860168904066,
           0.0006607442628592253,
           0.0002417428622720763,
           0.00012780730321537703,
           0.00025137438206002116,
           0.0010662070708349347,
           0.0024080805014818907,
           0.5220337510108948,
           0.01848609186708927,
           0.002043738029897213,
           0.0007138436776585877,
           0.0007173925405368209,
           1.2969282579433639e-05,
           9.99999993922529e-09
          ],
          [
           9.99999993922529e-09,
           9.99999993922529e-09,
           1.0002267458730785e-08,
           9.99999993922529e-09,
           9.99999993922529e-09,
           9.99999993922529e-09,
           5.880055482521129e-07,
           9.99999993922529e-09,
           9.99999993922529e-09,
           9.99999993922529e-09,
           9.99999993922529e-09,
           0.002664875704795122,
           0.0012422528816387057,
           0.006375639233738184,
           9.99999993922529e-09,
           7.70493261370575e-06,
           2.1383492310178553e-08,
           1.0390214910671602e-08,
           1.150869799459997e-08,
           1.3544286048272625e-07,
           0.0009280568920075893,
           9.514678095001727e-05,
           4.801615432370454e-05,
           6.537497392855585e-05,
           8.929959562919976e-07,
           4.053892098454526e-06,
           2.5885123022817424e-07,
           3.045691698844166e-08,
           1.0593336874364923e-08,
           0.001294247223995626,
           9.99999993922529e-09,
           9.99999993922529e-09,
           0.0043252259492874146,
           9.99999993922529e-09,
           9.99999993922529e-09,
           9.99999993922529e-09,
           9.99999993922529e-09,
           9.99999993922529e-09,
           0.5072919130325317,
           9.99999993922529e-09,
           9.99999993922529e-09,
           9.99999993922529e-09,
           9.99999993922529e-09,
           9.99999993922529e-09,
           9.99999993922529e-09,
           9.99999993922529e-09
          ]
         ],
         "zmax": 0.9990757703781128,
         "zmin": -0.29999999000000005
        }
       ],
       "layout": {
        "annotations": [
         {
          "font": {
           "size": 16
          },
          "showarrow": false,
          "text": "Memory Cells",
          "textangle": -90,
          "x": 0,
          "xanchor": "right",
          "xref": "paper",
          "xshift": -40,
          "y": 0.5,
          "yanchor": "middle",
          "yref": "paper"
         }
        ],
        "height": 250,
        "margin": {
         "b": 5,
         "l": 60,
         "r": 5,
         "t": 5
        },
        "template": {
         "data": {
          "bar": [
           {
            "error_x": {
             "color": "#2a3f5f"
            },
            "error_y": {
             "color": "#2a3f5f"
            },
            "marker": {
             "line": {
              "color": "#E5ECF6",
              "width": 0.5
             }
            },
            "type": "bar"
           }
          ],
          "barpolar": [
           {
            "marker": {
             "line": {
              "color": "#E5ECF6",
              "width": 0.5
             }
            },
            "type": "barpolar"
           }
          ],
          "carpet": [
           {
            "aaxis": {
             "endlinecolor": "#2a3f5f",
             "gridcolor": "white",
             "linecolor": "white",
             "minorgridcolor": "white",
             "startlinecolor": "#2a3f5f"
            },
            "baxis": {
             "endlinecolor": "#2a3f5f",
             "gridcolor": "white",
             "linecolor": "white",
             "minorgridcolor": "white",
             "startlinecolor": "#2a3f5f"
            },
            "type": "carpet"
           }
          ],
          "choropleth": [
           {
            "colorbar": {
             "outlinewidth": 0,
             "ticks": ""
            },
            "type": "choropleth"
           }
          ],
          "contour": [
           {
            "colorbar": {
             "outlinewidth": 0,
             "ticks": ""
            },
            "colorscale": [
             [
              0,
              "#0d0887"
             ],
             [
              0.1111111111111111,
              "#46039f"
             ],
             [
              0.2222222222222222,
              "#7201a8"
             ],
             [
              0.3333333333333333,
              "#9c179e"
             ],
             [
              0.4444444444444444,
              "#bd3786"
             ],
             [
              0.5555555555555556,
              "#d8576b"
             ],
             [
              0.6666666666666666,
              "#ed7953"
             ],
             [
              0.7777777777777778,
              "#fb9f3a"
             ],
             [
              0.8888888888888888,
              "#fdca26"
             ],
             [
              1,
              "#f0f921"
             ]
            ],
            "type": "contour"
           }
          ],
          "contourcarpet": [
           {
            "colorbar": {
             "outlinewidth": 0,
             "ticks": ""
            },
            "type": "contourcarpet"
           }
          ],
          "heatmap": [
           {
            "colorbar": {
             "outlinewidth": 0,
             "ticks": ""
            },
            "colorscale": [
             [
              0,
              "#0d0887"
             ],
             [
              0.1111111111111111,
              "#46039f"
             ],
             [
              0.2222222222222222,
              "#7201a8"
             ],
             [
              0.3333333333333333,
              "#9c179e"
             ],
             [
              0.4444444444444444,
              "#bd3786"
             ],
             [
              0.5555555555555556,
              "#d8576b"
             ],
             [
              0.6666666666666666,
              "#ed7953"
             ],
             [
              0.7777777777777778,
              "#fb9f3a"
             ],
             [
              0.8888888888888888,
              "#fdca26"
             ],
             [
              1,
              "#f0f921"
             ]
            ],
            "type": "heatmap"
           }
          ],
          "heatmapgl": [
           {
            "colorbar": {
             "outlinewidth": 0,
             "ticks": ""
            },
            "colorscale": [
             [
              0,
              "#0d0887"
             ],
             [
              0.1111111111111111,
              "#46039f"
             ],
             [
              0.2222222222222222,
              "#7201a8"
             ],
             [
              0.3333333333333333,
              "#9c179e"
             ],
             [
              0.4444444444444444,
              "#bd3786"
             ],
             [
              0.5555555555555556,
              "#d8576b"
             ],
             [
              0.6666666666666666,
              "#ed7953"
             ],
             [
              0.7777777777777778,
              "#fb9f3a"
             ],
             [
              0.8888888888888888,
              "#fdca26"
             ],
             [
              1,
              "#f0f921"
             ]
            ],
            "type": "heatmapgl"
           }
          ],
          "histogram": [
           {
            "marker": {
             "colorbar": {
              "outlinewidth": 0,
              "ticks": ""
             }
            },
            "type": "histogram"
           }
          ],
          "histogram2d": [
           {
            "colorbar": {
             "outlinewidth": 0,
             "ticks": ""
            },
            "colorscale": [
             [
              0,
              "#0d0887"
             ],
             [
              0.1111111111111111,
              "#46039f"
             ],
             [
              0.2222222222222222,
              "#7201a8"
             ],
             [
              0.3333333333333333,
              "#9c179e"
             ],
             [
              0.4444444444444444,
              "#bd3786"
             ],
             [
              0.5555555555555556,
              "#d8576b"
             ],
             [
              0.6666666666666666,
              "#ed7953"
             ],
             [
              0.7777777777777778,
              "#fb9f3a"
             ],
             [
              0.8888888888888888,
              "#fdca26"
             ],
             [
              1,
              "#f0f921"
             ]
            ],
            "type": "histogram2d"
           }
          ],
          "histogram2dcontour": [
           {
            "colorbar": {
             "outlinewidth": 0,
             "ticks": ""
            },
            "colorscale": [
             [
              0,
              "#0d0887"
             ],
             [
              0.1111111111111111,
              "#46039f"
             ],
             [
              0.2222222222222222,
              "#7201a8"
             ],
             [
              0.3333333333333333,
              "#9c179e"
             ],
             [
              0.4444444444444444,
              "#bd3786"
             ],
             [
              0.5555555555555556,
              "#d8576b"
             ],
             [
              0.6666666666666666,
              "#ed7953"
             ],
             [
              0.7777777777777778,
              "#fb9f3a"
             ],
             [
              0.8888888888888888,
              "#fdca26"
             ],
             [
              1,
              "#f0f921"
             ]
            ],
            "type": "histogram2dcontour"
           }
          ],
          "mesh3d": [
           {
            "colorbar": {
             "outlinewidth": 0,
             "ticks": ""
            },
            "type": "mesh3d"
           }
          ],
          "parcoords": [
           {
            "line": {
             "colorbar": {
              "outlinewidth": 0,
              "ticks": ""
             }
            },
            "type": "parcoords"
           }
          ],
          "pie": [
           {
            "automargin": true,
            "type": "pie"
           }
          ],
          "scatter": [
           {
            "marker": {
             "colorbar": {
              "outlinewidth": 0,
              "ticks": ""
             }
            },
            "type": "scatter"
           }
          ],
          "scatter3d": [
           {
            "line": {
             "colorbar": {
              "outlinewidth": 0,
              "ticks": ""
             }
            },
            "marker": {
             "colorbar": {
              "outlinewidth": 0,
              "ticks": ""
             }
            },
            "type": "scatter3d"
           }
          ],
          "scattercarpet": [
           {
            "marker": {
             "colorbar": {
              "outlinewidth": 0,
              "ticks": ""
             }
            },
            "type": "scattercarpet"
           }
          ],
          "scattergeo": [
           {
            "marker": {
             "colorbar": {
              "outlinewidth": 0,
              "ticks": ""
             }
            },
            "type": "scattergeo"
           }
          ],
          "scattergl": [
           {
            "marker": {
             "colorbar": {
              "outlinewidth": 0,
              "ticks": ""
             }
            },
            "type": "scattergl"
           }
          ],
          "scattermapbox": [
           {
            "marker": {
             "colorbar": {
              "outlinewidth": 0,
              "ticks": ""
             }
            },
            "type": "scattermapbox"
           }
          ],
          "scatterpolar": [
           {
            "marker": {
             "colorbar": {
              "outlinewidth": 0,
              "ticks": ""
             }
            },
            "type": "scatterpolar"
           }
          ],
          "scatterpolargl": [
           {
            "marker": {
             "colorbar": {
              "outlinewidth": 0,
              "ticks": ""
             }
            },
            "type": "scatterpolargl"
           }
          ],
          "scatterternary": [
           {
            "marker": {
             "colorbar": {
              "outlinewidth": 0,
              "ticks": ""
             }
            },
            "type": "scatterternary"
           }
          ],
          "surface": [
           {
            "colorbar": {
             "outlinewidth": 0,
             "ticks": ""
            },
            "colorscale": [
             [
              0,
              "#0d0887"
             ],
             [
              0.1111111111111111,
              "#46039f"
             ],
             [
              0.2222222222222222,
              "#7201a8"
             ],
             [
              0.3333333333333333,
              "#9c179e"
             ],
             [
              0.4444444444444444,
              "#bd3786"
             ],
             [
              0.5555555555555556,
              "#d8576b"
             ],
             [
              0.6666666666666666,
              "#ed7953"
             ],
             [
              0.7777777777777778,
              "#fb9f3a"
             ],
             [
              0.8888888888888888,
              "#fdca26"
             ],
             [
              1,
              "#f0f921"
             ]
            ],
            "type": "surface"
           }
          ],
          "table": [
           {
            "cells": {
             "fill": {
              "color": "#EBF0F8"
             },
             "line": {
              "color": "white"
             }
            },
            "header": {
             "fill": {
              "color": "#C8D4E3"
             },
             "line": {
              "color": "white"
             }
            },
            "type": "table"
           }
          ]
         },
         "layout": {
          "annotationdefaults": {
           "arrowcolor": "#2a3f5f",
           "arrowhead": 0,
           "arrowwidth": 1
          },
          "coloraxis": {
           "colorbar": {
            "outlinewidth": 0,
            "ticks": ""
           }
          },
          "colorscale": {
           "diverging": [
            [
             0,
             "#8e0152"
            ],
            [
             0.1,
             "#c51b7d"
            ],
            [
             0.2,
             "#de77ae"
            ],
            [
             0.3,
             "#f1b6da"
            ],
            [
             0.4,
             "#fde0ef"
            ],
            [
             0.5,
             "#f7f7f7"
            ],
            [
             0.6,
             "#e6f5d0"
            ],
            [
             0.7,
             "#b8e186"
            ],
            [
             0.8,
             "#7fbc41"
            ],
            [
             0.9,
             "#4d9221"
            ],
            [
             1,
             "#276419"
            ]
           ],
           "sequential": [
            [
             0,
             "#0d0887"
            ],
            [
             0.1111111111111111,
             "#46039f"
            ],
            [
             0.2222222222222222,
             "#7201a8"
            ],
            [
             0.3333333333333333,
             "#9c179e"
            ],
            [
             0.4444444444444444,
             "#bd3786"
            ],
            [
             0.5555555555555556,
             "#d8576b"
            ],
            [
             0.6666666666666666,
             "#ed7953"
            ],
            [
             0.7777777777777778,
             "#fb9f3a"
            ],
            [
             0.8888888888888888,
             "#fdca26"
            ],
            [
             1,
             "#f0f921"
            ]
           ],
           "sequentialminus": [
            [
             0,
             "#0d0887"
            ],
            [
             0.1111111111111111,
             "#46039f"
            ],
            [
             0.2222222222222222,
             "#7201a8"
            ],
            [
             0.3333333333333333,
             "#9c179e"
            ],
            [
             0.4444444444444444,
             "#bd3786"
            ],
            [
             0.5555555555555556,
             "#d8576b"
            ],
            [
             0.6666666666666666,
             "#ed7953"
            ],
            [
             0.7777777777777778,
             "#fb9f3a"
            ],
            [
             0.8888888888888888,
             "#fdca26"
            ],
            [
             1,
             "#f0f921"
            ]
           ]
          },
          "colorway": [
           "#636efa",
           "#EF553B",
           "#00cc96",
           "#ab63fa",
           "#FFA15A",
           "#19d3f3",
           "#FF6692",
           "#B6E880",
           "#FF97FF",
           "#FECB52"
          ],
          "font": {
           "color": "#2a3f5f"
          },
          "geo": {
           "bgcolor": "white",
           "lakecolor": "white",
           "landcolor": "#E5ECF6",
           "showlakes": true,
           "showland": true,
           "subunitcolor": "white"
          },
          "hoverlabel": {
           "align": "left"
          },
          "hovermode": "closest",
          "mapbox": {
           "style": "light"
          },
          "paper_bgcolor": "white",
          "plot_bgcolor": "#E5ECF6",
          "polar": {
           "angularaxis": {
            "gridcolor": "white",
            "linecolor": "white",
            "ticks": ""
           },
           "bgcolor": "#E5ECF6",
           "radialaxis": {
            "gridcolor": "white",
            "linecolor": "white",
            "ticks": ""
           }
          },
          "scene": {
           "xaxis": {
            "backgroundcolor": "#E5ECF6",
            "gridcolor": "white",
            "gridwidth": 2,
            "linecolor": "white",
            "showbackground": true,
            "ticks": "",
            "zerolinecolor": "white"
           },
           "yaxis": {
            "backgroundcolor": "#E5ECF6",
            "gridcolor": "white",
            "gridwidth": 2,
            "linecolor": "white",
            "showbackground": true,
            "ticks": "",
            "zerolinecolor": "white"
           },
           "zaxis": {
            "backgroundcolor": "#E5ECF6",
            "gridcolor": "white",
            "gridwidth": 2,
            "linecolor": "white",
            "showbackground": true,
            "ticks": "",
            "zerolinecolor": "white"
           }
          },
          "shapedefaults": {
           "line": {
            "color": "#2a3f5f"
           }
          },
          "ternary": {
           "aaxis": {
            "gridcolor": "white",
            "linecolor": "white",
            "ticks": ""
           },
           "baxis": {
            "gridcolor": "white",
            "linecolor": "white",
            "ticks": ""
           },
           "bgcolor": "#E5ECF6",
           "caxis": {
            "gridcolor": "white",
            "linecolor": "white",
            "ticks": ""
           }
          },
          "title": {
           "x": 0.05
          },
          "xaxis": {
           "automargin": true,
           "gridcolor": "white",
           "linecolor": "white",
           "ticks": "",
           "title": {
            "standoff": 15
           },
           "zerolinecolor": "white",
           "zerolinewidth": 2
          },
          "yaxis": {
           "automargin": true,
           "gridcolor": "white",
           "linecolor": "white",
           "ticks": "",
           "title": {
            "standoff": 15
           },
           "zerolinecolor": "white",
           "zerolinewidth": 2
          }
         }
        },
        "width": 1000,
        "xaxis": {
         "anchor": "y",
         "domain": [
          0,
          1
         ],
         "matches": "x4",
         "showticklabels": false
        },
        "xaxis2": {
         "anchor": "y2",
         "domain": [
          0,
          1
         ],
         "matches": "x4",
         "showticklabels": false
        },
        "xaxis3": {
         "anchor": "y3",
         "domain": [
          0,
          1
         ],
         "matches": "x4",
         "showticklabels": false
        },
        "xaxis4": {
         "anchor": "y4",
         "domain": [
          0,
          1
         ],
         "showticklabels": true,
         "tickangle": -60,
         "tickcolor": "#000000",
         "tickfont": {
          "family": "Open Sans",
          "size": 12
         },
         "ticktext": [
          "[CLS]",
          "Amelia",
          "Shepherd",
          ",",
          "M",
          ".",
          "D",
          ".",
          "is",
          "a",
          "fictional",
          "character ...",
          "... portrayed",
          "by",
          "Cat",
          "##erina",
          "Sc",
          "##ors",
          "##one",
          ".",
          "In",
          "her",
          "debut",
          "appearance",
          "in",
          "season",
          "three",
          ",",
          "Amelia",
          "visited",
          "her",
          "former",
          "sister",
          "-",
          "in",
          "-",
          "law",
          ",",
          "Addison",
          "Montgomery",
          ", ...",
          "... Well",
          "##ness",
          "Group",
          ".",
          "[SEP]"
         ],
         "tickvals": [
          0,
          1,
          2,
          3,
          4,
          5,
          6,
          7,
          8,
          9,
          10,
          11,
          12,
          13,
          14,
          15,
          16,
          17,
          18,
          19,
          20,
          21,
          22,
          23,
          24,
          25,
          26,
          27,
          28,
          29,
          30,
          31,
          32,
          33,
          34,
          35,
          36,
          37,
          38,
          39,
          40,
          41,
          42,
          43,
          44,
          45
         ]
        },
        "yaxis": {
         "anchor": "x",
         "domain": [
          0.7649999999999999,
          0.9999999999999999
         ],
         "showticklabels": true,
         "tickcolor": "#000000",
         "ticks": "outside",
         "ticktext": [
          "CR",
          "OW"
         ],
         "tickvals": [
          0,
          1
         ]
        },
        "yaxis2": {
         "anchor": "x2",
         "domain": [
          0.51,
          0.745
         ],
         "showticklabels": true,
         "tickcolor": "#000000",
         "ticks": "outside",
         "ticktext": [
          "CR",
          "OW"
         ],
         "tickvals": [
          0,
          1
         ]
        },
        "yaxis3": {
         "anchor": "x3",
         "domain": [
          0.255,
          0.49
         ],
         "showticklabels": true,
         "tickcolor": "#000000",
         "ticks": "outside",
         "ticktext": [
          "CR",
          "OW"
         ],
         "tickvals": [
          0,
          1
         ]
        },
        "yaxis4": {
         "anchor": "x4",
         "domain": [
          0,
          0.235
         ],
         "showticklabels": true,
         "tickcolor": "#000000",
         "ticks": "outside",
         "ticktext": [
          "CR",
          "OW"
         ],
         "tickvals": [
          0,
          1
         ]
        }
       }
      },
      "text/html": [
       "<div>\n",
       "        \n",
       "        \n",
       "            <div id=\"6ae76721-a4cb-425e-8edd-70d20a212c81\" class=\"plotly-graph-div\" style=\"height:250px; width:1000px;\"></div>\n",
       "            <script type=\"text/javascript\">\n",
       "                require([\"plotly\"], function(Plotly) {\n",
       "                    window.PLOTLYENV=window.PLOTLYENV || {};\n",
       "                    \n",
       "                if (document.getElementById(\"6ae76721-a4cb-425e-8edd-70d20a212c81\")) {\n",
       "                    Plotly.newPlot(\n",
       "                        '6ae76721-a4cb-425e-8edd-70d20a212c81',\n",
       "                        [{\"colorscale\": [[0.0, \"rgb(247,251,255)\"], [0.125, \"rgb(222,235,247)\"], [0.25, \"rgb(198,219,239)\"], [0.375, \"rgb(158,202,225)\"], [0.5, \"rgb(107,174,214)\"], [0.625, \"rgb(66,146,198)\"], [0.75, \"rgb(33,113,181)\"], [0.875, \"rgb(8,81,156)\"], [1.0, \"rgb(8,48,107)\"]], \"showscale\": false, \"type\": \"heatmap\", \"xaxis\": \"x\", \"yaxis\": \"y\", \"z\": [[9.99999993922529e-09, 9.99999993922529e-09, 9.99999993922529e-09, 9.99999993922529e-09, 3.742422549635194e-08, 3.6016633657709463e-06, 1.1502574125188403e-05, 1.850267653935589e-05, 1.8606619960337412e-06, 7.015672167653975e-07, 4.073714808328077e-05, 0.0005298995529301465, 0.0008356212638318539, 0.0012294206535443664, 0.0010705784661695361, 0.45676904916763306, 0.35870829224586487, 0.25503280758857727, 0.29328805208206177, 0.006311540026217699, 0.036671414971351624, 0.0001466119720134884, 9.27195287658833e-05, 0.000668597873300314, 0.0005504809669218957, 0.00035573530476540327, 0.0007970888400450349, 1.1392730314696564e-08, 1.0000717587388408e-08, 0.0008311892743222415, 0.0001213732102769427, 0.0016736850375309587, 0.00507965125143528, 0.005219821818172932, 0.0016227063024416566, 0.0009187433170154691, 0.0005255133146420121, 0.0031296717934310436, 0.0006658879574388266, 2.3195180887114475e-08, 0.0008038435480557382, 4.2669260437833145e-05, 1.3792315257887822e-05, 1.155929385276977e-05, 3.0521750886691734e-05, 9.99999993922529e-09], [9.99999993922529e-09, 9.99999993922529e-09, 9.99999993922529e-09, 1.0034813868742276e-08, 9.99999993922529e-09, 9.99999993922529e-09, 9.99999993922529e-09, 3.01743625641393e-07, 9.99999993922529e-09, 9.99999993922529e-09, 7.161343091866001e-05, 9.99999993922529e-09, 9.99999993922529e-09, 9.99999993922529e-09, 0.49056899547576904, 9.99999993922529e-09, 9.99999993922529e-09, 9.99999993922529e-09, 9.99999993922529e-09, 9.99999993922529e-09, 9.99999993922529e-09, 9.99999993922529e-09, 9.99999993922529e-09, 9.99999993922529e-09, 9.99999993922529e-09, 9.99999993922529e-09, 9.99999993922529e-09, 9.99999993922529e-09, 9.99999993922529e-09, 9.99999993922529e-09, 9.99999993922529e-09, 9.99999993922529e-09, 9.99999993922529e-09, 9.99999993922529e-09, 9.99999993922529e-09, 9.99999993922529e-09, 9.99999993922529e-09, 9.99999993922529e-09, 9.99999993922529e-09, 9.99999993922529e-09, 9.99999993922529e-09, 9.99999993922529e-09, 9.99999993922529e-09, 9.99999993922529e-09, 9.99999993922529e-09, 9.99999993922529e-09]], \"zmax\": 0.9990757703781128, \"zmin\": -0.29999999000000005}, {\"colorscale\": [[0.0, \"rgb(247,251,255)\"], [0.125, \"rgb(222,235,247)\"], [0.25, \"rgb(198,219,239)\"], [0.375, \"rgb(158,202,225)\"], [0.5, \"rgb(107,174,214)\"], [0.625, \"rgb(66,146,198)\"], [0.75, \"rgb(33,113,181)\"], [0.875, \"rgb(8,81,156)\"], [1.0, \"rgb(8,48,107)\"]], \"showscale\": false, \"type\": \"heatmap\", \"xaxis\": \"x2\", \"yaxis\": \"y2\", \"z\": [[9.99999993922529e-09, 9.99999993922529e-09, 9.99999993922529e-09, 9.99999993922529e-09, 9.99999993922529e-09, 3.6016633657709463e-06, 1.1502574125188403e-05, 1.850267653935589e-05, 1.860647785179026e-06, 7.015672167653975e-07, 4.073838863405399e-05, 0.000529543380253017, 0.0008702923078089952, 0.0013339348370209336, 0.0011556192766875029, 2.5094607281062054e-07, 8.833455353851605e-07, 1.0351399168939679e-06, 3.29172435158398e-05, 5.406405034591444e-05, 0.0033932102378457785, 0.0010396981379017234, 7.975652260938659e-05, 0.00020198200945742428, 1.2724874977720901e-05, 3.101847323705442e-05, 9.166720701614395e-06, 1.1952898226752495e-08, 2.632143392133912e-08, 0.0010450875852257013, 0.0003468893119134009, 0.0008591439691372216, 0.0024062269367277622, 0.0007455944432877004, 0.0002743164368439466, 0.00014462947729043663, 0.0002753227890934795, 0.0010919837513938546, 0.008447851985692978, 2.0476279587455792e-06, 0.0042157964780926704, 0.00011394330067560077, 3.2871768780751154e-05, 1.185603832709603e-05, 8.39376025396632e-06, 9.99999993922529e-09], [9.99999993922529e-09, 9.99999993922529e-09, 9.99999993922529e-09, 9.99999993922529e-09, 2.8751525604775452e-08, 1.38654545622785e-08, 9.99999993922529e-09, 9.99999993922529e-09, 2.319268617156922e-07, 2.225100843133987e-06, 9.99999993922529e-09, 9.99999993922529e-09, 9.99999993922529e-09, 9.99999993922529e-09, 9.99999993922529e-09, 9.99999993922529e-09, 9.99999993922529e-09, 9.99999993922529e-09, 9.99999993922529e-09, 9.99999993922529e-09, 9.99999993922529e-09, 9.99999993922529e-09, 9.99999993922529e-09, 9.99999993922529e-09, 9.99999993922529e-09, 9.99999993922529e-09, 9.99999993922529e-09, 9.99999993922529e-09, 9.99999993922529e-09, 9.99999993922529e-09, 0.0005497530219145119, 0.00221240590326488, 9.99999993922529e-09, 2.598266291897744e-05, 8.443403203273192e-06, 5.683955350832548e-07, 5.8672409068094566e-05, 0.11035466939210892, 9.99999993922529e-09, 2.5703712935865042e-08, 7.563956023659557e-05, 1.874927647804725e-06, 7.993615014356692e-08, 1.5389355567663188e-08, 8.63781042426126e-06, 9.99999993922529e-09]], \"zmax\": 0.9990757703781128, \"zmin\": -0.29999999000000005}, {\"colorscale\": [[0.0, \"rgb(247,251,255)\"], [0.125, \"rgb(222,235,247)\"], [0.25, \"rgb(198,219,239)\"], [0.375, \"rgb(158,202,225)\"], [0.5, \"rgb(107,174,214)\"], [0.625, \"rgb(66,146,198)\"], [0.75, \"rgb(33,113,181)\"], [0.875, \"rgb(8,81,156)\"], [1.0, \"rgb(8,48,107)\"]], \"showscale\": false, \"type\": \"heatmap\", \"xaxis\": \"x3\", \"yaxis\": \"y3\", \"z\": [[9.99999993922529e-09, 9.99999993922529e-09, 0.9938104748725891, 0.33022165298461914, 0.6490028500556946, 0.5234131813049316, 0.07187722623348236, 0.15305113792419434, 0.03157157450914383, 0.019567832350730896, 0.0005544485175050795, 0.008051074109971523, 0.0009340427350252867, 0.00011431519669713452, 4.310594158596359e-05, 1.2866248511045342e-08, 1.0006581341315268e-08, 1.0017868312672817e-08, 1.019041917516006e-08, 0.0073526715859770775, 0.002126952400431037, 0.9975358247756958, 0.0043738535605371, 0.000145781843457371, 1.064945990947308e-06, 5.896957645745715e-06, 8.895919449969369e-07, 0.009510940872132778, 0.9877669811248779, 0.007187121547758579, 0.9985933303833008, 8.479692769469693e-05, 6.513275729957968e-05, 7.981552698765881e-07, 3.051038675039308e-07, 5.398631230946194e-08, 1.2108274631827953e-06, 7.621101394761354e-05, 2.036312253039796e-05, 1.0028005092976855e-08, 0.0003427795018069446, 1.2556633954829977e-08, 1.0855510268470425e-08, 1.0054278298810004e-08, 0.0004671167698688805, 9.99999993922529e-09], [9.99999993922529e-09, 0.9990757703781128, 9.99999993922529e-09, 9.99999993922529e-09, 9.99999993922529e-09, 9.99999993922529e-09, 9.99999993922529e-09, 9.99999993922529e-09, 9.99999993922529e-09, 9.99999993922529e-09, 9.99999993922529e-09, 9.99999993922529e-09, 9.99999993922529e-09, 9.99999993922529e-09, 9.99999993922529e-09, 9.99999993922529e-09, 9.99999993922529e-09, 9.99999993922529e-09, 9.99999993922529e-09, 9.99999993922529e-09, 9.99999993922529e-09, 9.99999993922529e-09, 9.99999993922529e-09, 9.99999993922529e-09, 9.99999993922529e-09, 9.99999993922529e-09, 9.99999993922529e-09, 9.99999993922529e-09, 9.99999993922529e-09, 9.99999993922529e-09, 9.99999993922529e-09, 9.99999993922529e-09, 9.99999993922529e-09, 9.99999993922529e-09, 9.99999993922529e-09, 9.99999993922529e-09, 9.99999993922529e-09, 9.99999993922529e-09, 9.99999993922529e-09, 9.99999993922529e-09, 9.99999993922529e-09, 9.99999993922529e-09, 9.99999993922529e-09, 9.99999993922529e-09, 9.99999993922529e-09, 9.99999993922529e-09]], \"zmax\": 0.9990757703781128, \"zmin\": -0.29999999000000005}, {\"colorscale\": [[0.0, \"rgb(247,251,255)\"], [0.125, \"rgb(222,235,247)\"], [0.25, \"rgb(198,219,239)\"], [0.375, \"rgb(158,202,225)\"], [0.5, \"rgb(107,174,214)\"], [0.625, \"rgb(66,146,198)\"], [0.75, \"rgb(33,113,181)\"], [0.875, \"rgb(8,81,156)\"], [1.0, \"rgb(8,48,107)\"]], \"showscale\": false, \"type\": \"heatmap\", \"xaxis\": \"x4\", \"yaxis\": \"y4\", \"z\": [[9.99999993922529e-09, 9.99999993922529e-09, 9.99999993922529e-09, 1.4386481339556667e-08, 3.742422549635194e-08, 3.6016633657709463e-06, 1.1502574125188403e-05, 1.8502925740904175e-05, 1.860667339315114e-06, 7.015698884060839e-07, 4.0737257222644985e-05, 0.0005295295268297195, 0.0008385168621316552, 0.0012231608852744102, 0.0011135634267702699, 2.335212485604643e-07, 7.814593914190482e-07, 9.948505521606421e-07, 2.94993951683864e-05, 5.7684974308358505e-05, 0.0033614560961723328, 0.0011827656999230385, 8.409912697970867e-05, 0.0001928992714965716, 1.1390545296308119e-05, 2.7302065063850023e-05, 8.142599654092919e-06, 1.2235782165248565e-08, 3.128887016146109e-08, 0.001079964218661189, 0.00038800432230345905, 0.0008329058182425797, 0.0022303860168904066, 0.0006607442628592253, 0.0002417428622720763, 0.00012780730321537703, 0.00025137438206002116, 0.0010662070708349347, 0.0024080805014818907, 0.5220337510108948, 0.01848609186708927, 0.002043738029897213, 0.0007138436776585877, 0.0007173925405368209, 1.2969282579433639e-05, 9.99999993922529e-09], [9.99999993922529e-09, 9.99999993922529e-09, 1.0002267458730785e-08, 9.99999993922529e-09, 9.99999993922529e-09, 9.99999993922529e-09, 5.880055482521129e-07, 9.99999993922529e-09, 9.99999993922529e-09, 9.99999993922529e-09, 9.99999993922529e-09, 0.002664875704795122, 0.0012422528816387057, 0.006375639233738184, 9.99999993922529e-09, 7.70493261370575e-06, 2.1383492310178553e-08, 1.0390214910671602e-08, 1.150869799459997e-08, 1.3544286048272625e-07, 0.0009280568920075893, 9.514678095001727e-05, 4.801615432370454e-05, 6.537497392855585e-05, 8.929959562919976e-07, 4.053892098454526e-06, 2.5885123022817424e-07, 3.045691698844166e-08, 1.0593336874364923e-08, 0.001294247223995626, 9.99999993922529e-09, 9.99999993922529e-09, 0.0043252259492874146, 9.99999993922529e-09, 9.99999993922529e-09, 9.99999993922529e-09, 9.99999993922529e-09, 9.99999993922529e-09, 0.5072919130325317, 9.99999993922529e-09, 9.99999993922529e-09, 9.99999993922529e-09, 9.99999993922529e-09, 9.99999993922529e-09, 9.99999993922529e-09, 9.99999993922529e-09]], \"zmax\": 0.9990757703781128, \"zmin\": -0.29999999000000005}],\n",
       "                        {\"annotations\": [{\"font\": {\"size\": 16}, \"showarrow\": false, \"text\": \"Memory Cells\", \"textangle\": -90, \"x\": 0, \"xanchor\": \"right\", \"xref\": \"paper\", \"xshift\": -40, \"y\": 0.5, \"yanchor\": \"middle\", \"yref\": \"paper\"}], \"height\": 250, \"margin\": {\"b\": 5, \"l\": 60, \"r\": 5, \"t\": 5}, \"template\": {\"data\": {\"bar\": [{\"error_x\": {\"color\": \"#2a3f5f\"}, \"error_y\": {\"color\": \"#2a3f5f\"}, \"marker\": {\"line\": {\"color\": \"#E5ECF6\", \"width\": 0.5}}, \"type\": \"bar\"}], \"barpolar\": [{\"marker\": {\"line\": {\"color\": \"#E5ECF6\", \"width\": 0.5}}, \"type\": \"barpolar\"}], \"carpet\": [{\"aaxis\": {\"endlinecolor\": \"#2a3f5f\", \"gridcolor\": \"white\", \"linecolor\": \"white\", \"minorgridcolor\": \"white\", \"startlinecolor\": \"#2a3f5f\"}, \"baxis\": {\"endlinecolor\": \"#2a3f5f\", \"gridcolor\": \"white\", \"linecolor\": \"white\", \"minorgridcolor\": \"white\", \"startlinecolor\": \"#2a3f5f\"}, \"type\": \"carpet\"}], \"choropleth\": [{\"colorbar\": {\"outlinewidth\": 0, \"ticks\": \"\"}, \"type\": \"choropleth\"}], \"contour\": [{\"colorbar\": {\"outlinewidth\": 0, \"ticks\": \"\"}, \"colorscale\": [[0.0, \"#0d0887\"], [0.1111111111111111, \"#46039f\"], [0.2222222222222222, \"#7201a8\"], [0.3333333333333333, \"#9c179e\"], [0.4444444444444444, \"#bd3786\"], [0.5555555555555556, \"#d8576b\"], [0.6666666666666666, \"#ed7953\"], [0.7777777777777778, \"#fb9f3a\"], [0.8888888888888888, \"#fdca26\"], [1.0, \"#f0f921\"]], \"type\": \"contour\"}], \"contourcarpet\": [{\"colorbar\": {\"outlinewidth\": 0, \"ticks\": \"\"}, \"type\": \"contourcarpet\"}], \"heatmap\": [{\"colorbar\": {\"outlinewidth\": 0, \"ticks\": \"\"}, \"colorscale\": [[0.0, \"#0d0887\"], [0.1111111111111111, \"#46039f\"], [0.2222222222222222, \"#7201a8\"], [0.3333333333333333, \"#9c179e\"], [0.4444444444444444, \"#bd3786\"], [0.5555555555555556, \"#d8576b\"], [0.6666666666666666, \"#ed7953\"], [0.7777777777777778, \"#fb9f3a\"], [0.8888888888888888, \"#fdca26\"], [1.0, \"#f0f921\"]], \"type\": \"heatmap\"}], \"heatmapgl\": [{\"colorbar\": {\"outlinewidth\": 0, \"ticks\": \"\"}, \"colorscale\": [[0.0, \"#0d0887\"], [0.1111111111111111, \"#46039f\"], [0.2222222222222222, \"#7201a8\"], [0.3333333333333333, \"#9c179e\"], [0.4444444444444444, \"#bd3786\"], [0.5555555555555556, \"#d8576b\"], [0.6666666666666666, \"#ed7953\"], [0.7777777777777778, \"#fb9f3a\"], [0.8888888888888888, \"#fdca26\"], [1.0, \"#f0f921\"]], \"type\": \"heatmapgl\"}], \"histogram\": [{\"marker\": {\"colorbar\": {\"outlinewidth\": 0, \"ticks\": \"\"}}, \"type\": \"histogram\"}], \"histogram2d\": [{\"colorbar\": {\"outlinewidth\": 0, \"ticks\": \"\"}, \"colorscale\": [[0.0, \"#0d0887\"], [0.1111111111111111, \"#46039f\"], [0.2222222222222222, \"#7201a8\"], [0.3333333333333333, \"#9c179e\"], [0.4444444444444444, \"#bd3786\"], [0.5555555555555556, \"#d8576b\"], [0.6666666666666666, \"#ed7953\"], [0.7777777777777778, \"#fb9f3a\"], [0.8888888888888888, \"#fdca26\"], [1.0, \"#f0f921\"]], \"type\": \"histogram2d\"}], \"histogram2dcontour\": [{\"colorbar\": {\"outlinewidth\": 0, \"ticks\": \"\"}, \"colorscale\": [[0.0, \"#0d0887\"], [0.1111111111111111, \"#46039f\"], [0.2222222222222222, \"#7201a8\"], [0.3333333333333333, \"#9c179e\"], [0.4444444444444444, \"#bd3786\"], [0.5555555555555556, \"#d8576b\"], [0.6666666666666666, \"#ed7953\"], [0.7777777777777778, \"#fb9f3a\"], [0.8888888888888888, \"#fdca26\"], [1.0, \"#f0f921\"]], \"type\": \"histogram2dcontour\"}], \"mesh3d\": [{\"colorbar\": {\"outlinewidth\": 0, \"ticks\": \"\"}, \"type\": \"mesh3d\"}], \"parcoords\": [{\"line\": {\"colorbar\": {\"outlinewidth\": 0, \"ticks\": \"\"}}, \"type\": \"parcoords\"}], \"pie\": [{\"automargin\": true, \"type\": \"pie\"}], \"scatter\": [{\"marker\": {\"colorbar\": {\"outlinewidth\": 0, \"ticks\": \"\"}}, \"type\": \"scatter\"}], \"scatter3d\": [{\"line\": {\"colorbar\": {\"outlinewidth\": 0, \"ticks\": \"\"}}, \"marker\": {\"colorbar\": {\"outlinewidth\": 0, \"ticks\": \"\"}}, \"type\": \"scatter3d\"}], \"scattercarpet\": [{\"marker\": {\"colorbar\": {\"outlinewidth\": 0, \"ticks\": \"\"}}, \"type\": \"scattercarpet\"}], \"scattergeo\": [{\"marker\": {\"colorbar\": {\"outlinewidth\": 0, \"ticks\": \"\"}}, \"type\": \"scattergeo\"}], \"scattergl\": [{\"marker\": {\"colorbar\": {\"outlinewidth\": 0, \"ticks\": \"\"}}, \"type\": \"scattergl\"}], \"scattermapbox\": [{\"marker\": {\"colorbar\": {\"outlinewidth\": 0, \"ticks\": \"\"}}, \"type\": \"scattermapbox\"}], \"scatterpolar\": [{\"marker\": {\"colorbar\": {\"outlinewidth\": 0, \"ticks\": \"\"}}, \"type\": \"scatterpolar\"}], \"scatterpolargl\": [{\"marker\": {\"colorbar\": {\"outlinewidth\": 0, \"ticks\": \"\"}}, \"type\": \"scatterpolargl\"}], \"scatterternary\": [{\"marker\": {\"colorbar\": {\"outlinewidth\": 0, \"ticks\": \"\"}}, \"type\": \"scatterternary\"}], \"surface\": [{\"colorbar\": {\"outlinewidth\": 0, \"ticks\": \"\"}, \"colorscale\": [[0.0, \"#0d0887\"], [0.1111111111111111, \"#46039f\"], [0.2222222222222222, \"#7201a8\"], [0.3333333333333333, \"#9c179e\"], [0.4444444444444444, \"#bd3786\"], [0.5555555555555556, \"#d8576b\"], [0.6666666666666666, \"#ed7953\"], [0.7777777777777778, \"#fb9f3a\"], [0.8888888888888888, \"#fdca26\"], [1.0, \"#f0f921\"]], \"type\": \"surface\"}], \"table\": [{\"cells\": {\"fill\": {\"color\": \"#EBF0F8\"}, \"line\": {\"color\": \"white\"}}, \"header\": {\"fill\": {\"color\": \"#C8D4E3\"}, \"line\": {\"color\": \"white\"}}, \"type\": \"table\"}]}, \"layout\": {\"annotationdefaults\": {\"arrowcolor\": \"#2a3f5f\", \"arrowhead\": 0, \"arrowwidth\": 1}, \"coloraxis\": {\"colorbar\": {\"outlinewidth\": 0, \"ticks\": \"\"}}, \"colorscale\": {\"diverging\": [[0, \"#8e0152\"], [0.1, \"#c51b7d\"], [0.2, \"#de77ae\"], [0.3, \"#f1b6da\"], [0.4, \"#fde0ef\"], [0.5, \"#f7f7f7\"], [0.6, \"#e6f5d0\"], [0.7, \"#b8e186\"], [0.8, \"#7fbc41\"], [0.9, \"#4d9221\"], [1, \"#276419\"]], \"sequential\": [[0.0, \"#0d0887\"], [0.1111111111111111, \"#46039f\"], [0.2222222222222222, \"#7201a8\"], [0.3333333333333333, \"#9c179e\"], [0.4444444444444444, \"#bd3786\"], [0.5555555555555556, \"#d8576b\"], [0.6666666666666666, \"#ed7953\"], [0.7777777777777778, \"#fb9f3a\"], [0.8888888888888888, \"#fdca26\"], [1.0, \"#f0f921\"]], \"sequentialminus\": [[0.0, \"#0d0887\"], [0.1111111111111111, \"#46039f\"], [0.2222222222222222, \"#7201a8\"], [0.3333333333333333, \"#9c179e\"], [0.4444444444444444, \"#bd3786\"], [0.5555555555555556, \"#d8576b\"], [0.6666666666666666, \"#ed7953\"], [0.7777777777777778, \"#fb9f3a\"], [0.8888888888888888, \"#fdca26\"], [1.0, \"#f0f921\"]]}, \"colorway\": [\"#636efa\", \"#EF553B\", \"#00cc96\", \"#ab63fa\", \"#FFA15A\", \"#19d3f3\", \"#FF6692\", \"#B6E880\", \"#FF97FF\", \"#FECB52\"], \"font\": {\"color\": \"#2a3f5f\"}, \"geo\": {\"bgcolor\": \"white\", \"lakecolor\": \"white\", \"landcolor\": \"#E5ECF6\", \"showlakes\": true, \"showland\": true, \"subunitcolor\": \"white\"}, \"hoverlabel\": {\"align\": \"left\"}, \"hovermode\": \"closest\", \"mapbox\": {\"style\": \"light\"}, \"paper_bgcolor\": \"white\", \"plot_bgcolor\": \"#E5ECF6\", \"polar\": {\"angularaxis\": {\"gridcolor\": \"white\", \"linecolor\": \"white\", \"ticks\": \"\"}, \"bgcolor\": \"#E5ECF6\", \"radialaxis\": {\"gridcolor\": \"white\", \"linecolor\": \"white\", \"ticks\": \"\"}}, \"scene\": {\"xaxis\": {\"backgroundcolor\": \"#E5ECF6\", \"gridcolor\": \"white\", \"gridwidth\": 2, \"linecolor\": \"white\", \"showbackground\": true, \"ticks\": \"\", \"zerolinecolor\": \"white\"}, \"yaxis\": {\"backgroundcolor\": \"#E5ECF6\", \"gridcolor\": \"white\", \"gridwidth\": 2, \"linecolor\": \"white\", \"showbackground\": true, \"ticks\": \"\", \"zerolinecolor\": \"white\"}, \"zaxis\": {\"backgroundcolor\": \"#E5ECF6\", \"gridcolor\": \"white\", \"gridwidth\": 2, \"linecolor\": \"white\", \"showbackground\": true, \"ticks\": \"\", \"zerolinecolor\": \"white\"}}, \"shapedefaults\": {\"line\": {\"color\": \"#2a3f5f\"}}, \"ternary\": {\"aaxis\": {\"gridcolor\": \"white\", \"linecolor\": \"white\", \"ticks\": \"\"}, \"baxis\": {\"gridcolor\": \"white\", \"linecolor\": \"white\", \"ticks\": \"\"}, \"bgcolor\": \"#E5ECF6\", \"caxis\": {\"gridcolor\": \"white\", \"linecolor\": \"white\", \"ticks\": \"\"}}, \"title\": {\"x\": 0.05}, \"xaxis\": {\"automargin\": true, \"gridcolor\": \"white\", \"linecolor\": \"white\", \"ticks\": \"\", \"title\": {\"standoff\": 15}, \"zerolinecolor\": \"white\", \"zerolinewidth\": 2}, \"yaxis\": {\"automargin\": true, \"gridcolor\": \"white\", \"linecolor\": \"white\", \"ticks\": \"\", \"title\": {\"standoff\": 15}, \"zerolinecolor\": \"white\", \"zerolinewidth\": 2}}}, \"width\": 1000, \"xaxis\": {\"anchor\": \"y\", \"domain\": [0.0, 1.0], \"matches\": \"x4\", \"showticklabels\": false}, \"xaxis2\": {\"anchor\": \"y2\", \"domain\": [0.0, 1.0], \"matches\": \"x4\", \"showticklabels\": false}, \"xaxis3\": {\"anchor\": \"y3\", \"domain\": [0.0, 1.0], \"matches\": \"x4\", \"showticklabels\": false}, \"xaxis4\": {\"anchor\": \"y4\", \"domain\": [0.0, 1.0], \"showticklabels\": true, \"tickangle\": -60, \"tickcolor\": \"#000000\", \"tickfont\": {\"family\": \"Open Sans\", \"size\": 12}, \"ticktext\": [\"[CLS]\", \"Amelia\", \"Shepherd\", \",\", \"M\", \".\", \"D\", \".\", \"is\", \"a\", \"fictional\", \"character ...\", \"... portrayed\", \"by\", \"Cat\", \"##erina\", \"Sc\", \"##ors\", \"##one\", \".\", \"In\", \"her\", \"debut\", \"appearance\", \"in\", \"season\", \"three\", \",\", \"Amelia\", \"visited\", \"her\", \"former\", \"sister\", \"-\", \"in\", \"-\", \"law\", \",\", \"Addison\", \"Montgomery\", \", ...\", \"... Well\", \"##ness\", \"Group\", \".\", \"[SEP]\"], \"tickvals\": [0, 1, 2, 3, 4, 5, 6, 7, 8, 9, 10, 11, 12, 13, 14, 15, 16, 17, 18, 19, 20, 21, 22, 23, 24, 25, 26, 27, 28, 29, 30, 31, 32, 33, 34, 35, 36, 37, 38, 39, 40, 41, 42, 43, 44, 45]}, \"yaxis\": {\"anchor\": \"x\", \"domain\": [0.7649999999999999, 0.9999999999999999], \"showticklabels\": true, \"tickcolor\": \"#000000\", \"ticks\": \"outside\", \"ticktext\": [\"CR\", \"OW\"], \"tickvals\": [0, 1]}, \"yaxis2\": {\"anchor\": \"x2\", \"domain\": [0.51, 0.745], \"showticklabels\": true, \"tickcolor\": \"#000000\", \"ticks\": \"outside\", \"ticktext\": [\"CR\", \"OW\"], \"tickvals\": [0, 1]}, \"yaxis3\": {\"anchor\": \"x3\", \"domain\": [0.255, 0.49], \"showticklabels\": true, \"tickcolor\": \"#000000\", \"ticks\": \"outside\", \"ticktext\": [\"CR\", \"OW\"], \"tickvals\": [0, 1]}, \"yaxis4\": {\"anchor\": \"x4\", \"domain\": [0.0, 0.235], \"showticklabels\": true, \"tickcolor\": \"#000000\", \"ticks\": \"outside\", \"ticktext\": [\"CR\", \"OW\"], \"tickvals\": [0, 1]}},\n",
       "                        {\"responsive\": true}\n",
       "                    ).then(function(){\n",
       "                            \n",
       "var gd = document.getElementById('6ae76721-a4cb-425e-8edd-70d20a212c81');\n",
       "var x = new MutationObserver(function (mutations, observer) {{\n",
       "        var display = window.getComputedStyle(gd).display;\n",
       "        if (!display || display === 'none') {{\n",
       "            console.log([gd, 'removed!']);\n",
       "            Plotly.purge(gd);\n",
       "            observer.disconnect();\n",
       "        }}\n",
       "}});\n",
       "\n",
       "// Listen for the removal of the full notebook cells\n",
       "var notebookContainer = gd.closest('#notebook-container');\n",
       "if (notebookContainer) {{\n",
       "    x.observe(notebookContainer, {childList: true});\n",
       "}}\n",
       "\n",
       "// Listen for the clearing of the current output cell\n",
       "var outputEl = gd.closest('.output');\n",
       "if (outputEl) {{\n",
       "    x.observe(outputEl, {childList: true});\n",
       "}}\n",
       "\n",
       "                        })\n",
       "                };\n",
       "                });\n",
       "            </script>\n",
       "        </div>"
      ]
     },
     "metadata": {},
     "output_type": "display_data"
    }
   ],
   "source": [
    "make_plot(num_cells, text, coref, overwrite)"
   ]
  }
 ],
 "metadata": {
  "kernelspec": {
   "display_name": "Python [conda env:narrative_10]",
   "language": "python",
   "name": "conda-env-narrative_10-py"
  },
  "language_info": {
   "codemirror_mode": {
    "name": "ipython",
    "version": 3
   },
   "file_extension": ".py",
   "mimetype": "text/x-python",
   "name": "python",
   "nbconvert_exporter": "python",
   "pygments_lexer": "ipython3",
   "version": "3.7.2"
  }
 },
 "nbformat": 4,
 "nbformat_minor": 2
}
