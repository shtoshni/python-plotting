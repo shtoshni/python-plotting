{
 "cells": [
  {
   "cell_type": "markdown",
   "metadata": {},
   "source": [
    "## Simple plotting with legend\n",
    "This example focusses on removing some unnecessary elements from the default matplotlib plots which really annoy me.<br/>\n",
    "Also, the default colors in matplotlib are quite ugly. I highly recommend moving away from matplotlib defaults. \n",
    "I suggest a few colors in this tutorial."
   ]
  },
  {
   "cell_type": "code",
   "execution_count": null,
   "metadata": {},
   "outputs": [],
   "source": [
    "import os\n",
    "from os import path\n",
    "import json\n",
    "import numpy as np\n",
    "import matplotlib.pyplot as plt\n",
    "import pprint\n",
    "\n",
    "pp = pprint.PrettyPrinter(indent=4)\n",
    "# Turn the interactive mode off otherwise the plots don't carry over across cells\n",
    "plt.ioff() \n",
    "\n",
    "# Set Matplotlib Parameters\n",
    "# plt.style.use('bmh')\n",
    "plt.rc('text', usetex=True)   # Might require installing TeX fonts\n",
    "plt.rc('axes', facecolor='w', labelcolor='b', edgecolor='k')\n",
    "plt.rcParams['font.size'] = 16"
   ]
  },
  {
   "cell_type": "markdown",
   "metadata": {},
   "source": [
    "### Load data and setup plot labels"
   ]
  },
  {
   "cell_type": "code",
   "execution_count": null,
   "metadata": {},
   "outputs": [],
   "source": [
    "data = json.load(open(\"../data/simple_plot.json\"))\n",
    "# pp.pprint(data)\n",
    "\n",
    "# Set up plot specific labels\n",
    "xticklabels = list(range(2, 21, 2))\n",
    "xlabel = '\\# of memory cells'\n",
    "ylabel = 'F-score'"
   ]
  },
  {
   "cell_type": "markdown",
   "metadata": {},
   "source": [
    "### Initialize the plot"
   ]
  },
  {
   "cell_type": "code",
   "execution_count": null,
   "metadata": {},
   "outputs": [],
   "source": [
    "fig, ax = plt.subplots(1)\n",
    "\n",
    "ax.grid(b=False)\n",
    "# HIGHLY RECOMMENDED!\n",
    "# For a plot we don't need the top and right spines/edges. \n",
    "# The plot looks like a box with these on. \n",
    "spines_to_remove = ['top', 'right']\n",
    "for spine in spines_to_remove:\n",
    "    ax.spines[spine].set_visible(False)\n",
    "\n",
    "# No need for ticks for this plot. I think most plots can do away with ticks\n",
    "ax.xaxis.set_ticks_position('none')\n",
    "ax.yaxis.set_ticks_position('none')\n",
    "\n",
    "fig"
   ]
  },
  {
   "cell_type": "markdown",
   "metadata": {},
   "source": [
    "### Plot time\n",
    "Color choices are really important. Choose high contrast colors for plots.\n"
   ]
  },
  {
   "cell_type": "code",
   "execution_count": null,
   "metadata": {},
   "outputs": [],
   "source": [
    "# This color list can be handy\n",
    "color_list = ['#0173b2', 'darkmagenta', 'green' , 'k', '#8f9805', '#ca9161']\n",
    "linestyle_list = ['-', '--', 'dotted', 'dashdot']\n",
    "\n",
    "for idx, model in enumerate(data.keys()):\n",
    "    plt.plot(np.arange(len(xticklabels)), data[model], \n",
    "             color=color_list[idx], linestyle=linestyle_list[idx], \n",
    "             label=model)\n",
    "\n",
    "# Set the limit of the axes to properly align the plot and zoom in to contrast the performance \n",
    "ax.set_ylim([77.5, 86])\n",
    "ax.set_xlim([-0.5, 9.5])\n",
    "    \n",
    "# Set ticks and labels\n",
    "plt.xticks(np.arange(len(xticklabels)), xticklabels, rotation=0)\n",
    "plt.xlabel(xlabel, color=\"gray\", size=22)\n",
    "plt.ylabel(ylabel, color=\"gray\", size=22)\n",
    "\n",
    "\n",
    "# Set legend labels\n",
    "legend_labels = data.keys()\n",
    "l = ax.legend(loc='upper left', fontsize=18, \n",
    "              bbox_to_anchor=(1.01, 1), frameon=False)\n",
    "\n",
    "# Save plot - High DPI and without extra white space\n",
    "plt.savefig(format='jpg', dpi=300, bbox_inches='tight', fname=\"../plots/simple_plot.jpg\")\n",
    "fig"
   ]
  }
 ],
 "metadata": {
  "kernelspec": {
   "display_name": "Python [conda env:coref] *",
   "language": "python",
   "name": "conda-env-coref-py"
  },
  "language_info": {
   "codemirror_mode": {
    "name": "ipython",
    "version": 3
   },
   "file_extension": ".py",
   "mimetype": "text/x-python",
   "name": "python",
   "nbconvert_exporter": "python",
   "pygments_lexer": "ipython3",
   "version": "3.6.10"
  }
 },
 "nbformat": 4,
 "nbformat_minor": 4
}
